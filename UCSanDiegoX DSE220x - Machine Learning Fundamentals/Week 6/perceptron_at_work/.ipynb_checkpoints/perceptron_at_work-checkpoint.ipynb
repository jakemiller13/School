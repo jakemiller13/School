{
 "cells": [
  {
   "cell_type": "markdown",
   "metadata": {},
   "source": [
    "# The Perceptron algorithm at work"
   ]
  },
  {
   "cell_type": "markdown",
   "metadata": {},
   "source": [
    "In this notebook, we will look in detail at the Perceptron algorithm for learning a linear classifier in the case of binary labels."
   ]
  },
  {
   "cell_type": "markdown",
   "metadata": {},
   "source": [
    "## 1. The algorithm"
   ]
  },
  {
   "cell_type": "markdown",
   "metadata": {},
   "source": [
    "This first procedure, **evaluate_classifier**, takes as input the parameters of a linear classifier (`w,b`) as well as a data point (`x`) and returns the prediction of that classifier at `x`.\n",
    "\n",
    "The prediction is:\n",
    "* `1`  if `w.x+b > 0`\n",
    "* `0`  if `w.x+b = 0`\n",
    "* `-1` if `w.x+b < -1`"
   ]
  },
  {
   "cell_type": "code",
   "execution_count": 1,
   "metadata": {},
   "outputs": [],
   "source": [
    "def evaluate_classifier(w,b,x):\n",
    "    if (np.dot(w,x) + b) > 0:\n",
    "        return 1\n",
    "    if (np.dot(w,x) + b) <= 0:\n",
    "        return -1\n",
    "    return 0"
   ]
  },
  {
   "cell_type": "markdown",
   "metadata": {},
   "source": [
    "Here is the Perceptron training procedure. It is invoked as follows:\n",
    "* `w,b,converged = train_perceptron(x,y,n_iters)`\n",
    "\n",
    "where\n",
    "* `x`: n-by-d numpy array with n data points, each d-dimensional\n",
    "* `y`: n-dimensional numpy array with the labels (each 1 or -1)\n",
    "* `n_iters`: the training procedure will run through the data at most this many times (default: 100)\n",
    "* `w,b`: parameters for the final linear classifier\n",
    "* `converged`: flag (True/False) indicating whether the algorithm converged within the prescribed number of iterations\n",
    "\n",
    "If the data is not linearly separable, then the training procedure will not converge."
   ]
  },
  {
   "cell_type": "code",
   "execution_count": 2,
   "metadata": {},
   "outputs": [],
   "source": [
    "def train_perceptron(x,y,n_iters=100):\n",
    "    n,d = x.shape\n",
    "    w = np.zeros((d,))\n",
    "    b = 0\n",
    "    done = False\n",
    "    converged = True\n",
    "    iters = 0\n",
    "    np.random.seed(None)\n",
    "    while not(done):\n",
    "        done = True\n",
    "        I = np.random.permutation(n)\n",
    "        for i in range(n):\n",
    "            j = I[i]\n",
    "            if (evaluate_classifier(w,b,x[j,:]) != y[j]):\n",
    "                w = w + y[j] * x[j,:]\n",
    "                b = b + y[j]\n",
    "                done = False\n",
    "        iters = iters + 1\n",
    "        if iters > n_iters:\n",
    "            done = True\n",
    "            converged = False\n",
    "    if converged:\n",
    "        print(\"Perceptron algorithm: iterations until convergence:\", iters)\n",
    "    else:\n",
    "        print(\"Perceptron algorithm: did not converge within the specified number of iterations\")\n",
    "    return w, b, converged"
   ]
  },
  {
   "cell_type": "markdown",
   "metadata": {},
   "source": [
    "## 2. Experiments with the Perceptron"
   ]
  },
  {
   "cell_type": "markdown",
   "metadata": {},
   "source": [
    "We start with standard includes."
   ]
  },
  {
   "cell_type": "code",
   "execution_count": 3,
   "metadata": {},
   "outputs": [],
   "source": [
    "%matplotlib inline\n",
    "import numpy as np\n",
    "import matplotlib\n",
    "import matplotlib.pyplot as plt\n",
    "matplotlib.rc('xtick', labelsize=14) \n",
    "matplotlib.rc('ytick', labelsize=14)"
   ]
  },
  {
   "cell_type": "markdown",
   "metadata": {},
   "source": [
    "The directory containing this notebook should also contain the two-dimensional data files, `data_1.txt` and `data_2.txt`. These files contain one data point per line, along with a label, like:\n",
    "* `3 8 1` (meaning that point `x=(3,8)` has label `y=1`)\n",
    "\n",
    "The next procedure, **run_perceptron**, loads one of these data sets, learns a linear classifier using the Perceptron algorithm, and then displays the data as well as the boundary."
   ]
  },
  {
   "cell_type": "code",
   "execution_count": 4,
   "metadata": {},
   "outputs": [],
   "source": [
    "def run_perceptron(datafile):\n",
    "    data = np.loadtxt(datafile)\n",
    "    n,d = data.shape\n",
    "    # Create training set x and labels y\n",
    "    x = data[:,0:2]\n",
    "    y = data[:,2]\n",
    "    # Run the Perceptron algorithm for at most 100 iterations\n",
    "    w,b,converged = train_perceptron(x,y,100)\n",
    "    # Determine the x1- and x2- limits of the plot\n",
    "    x1min = min(x[:,0]) - 1\n",
    "    x1max = max(x[:,0]) + 1\n",
    "    x2min = min(x[:,1]) - 1\n",
    "    x2max = max(x[:,1]) + 1\n",
    "    plt.xlim(x1min,x1max)\n",
    "    plt.ylim(x2min,x2max)\n",
    "    # Plot the data points\n",
    "    plt.plot(x[(y==1),0], x[(y==1),1], 'ro')\n",
    "    plt.plot(x[(y==-1),0], x[(y==-1),1], 'k^')\n",
    "    # Construct a grid of points at which to evaluate the classifier\n",
    "    if converged:\n",
    "        grid_spacing = 0.05\n",
    "        xx1, xx2 = np.meshgrid(np.arange(x1min, x1max, grid_spacing), np.arange(x2min, x2max, grid_spacing))\n",
    "        grid = np.c_[xx1.ravel(), xx2.ravel()]\n",
    "        Z = np.array([evaluate_classifier(w,b,pt) for pt in grid])\n",
    "        # Show the classifier's boundary using a color plot\n",
    "        Z = Z.reshape(xx1.shape)\n",
    "        plt.pcolormesh(xx1, xx2, Z, cmap=plt.cm.PRGn, vmin=-3, vmax=3)\n",
    "    plt.show()"
   ]
  },
  {
   "cell_type": "markdown",
   "metadata": {},
   "source": [
    "Let's run this on `data_1.txt`. Try running it a few times; you should get slightly different outcomes, because of the randomization in the learning procedure."
   ]
  },
  {
   "cell_type": "code",
   "execution_count": 22,
   "metadata": {},
   "outputs": [
    {
     "data": {
      "text/plain": [
       "array([1., 1., 1., 1., 1., 1., 1., 1., 1., 2., 2., 2., 2., 2., 2., 2., 3.,\n",
       "       3., 3., 3., 3., 4., 4., 4., 5.])"
      ]
     },
     "execution_count": 22,
     "metadata": {},
     "output_type": "execute_result"
    }
   ],
   "source": [
    "temp_data = np.loadtxt('data_1.txt')\n",
    "temp_n, temp_d = temp_data.shape\n",
    "# Create training set x and labels y\n",
    "temp_x = temp_data[:,0:2]\n",
    "temp_y = temp_data[:,2]\n",
    "temp_y == 1\n",
    "temp_x[temp_y == 1,0] # testing how data points are plotted"
   ]
  },
  {
   "cell_type": "code",
   "execution_count": 6,
   "metadata": {},
   "outputs": [
    {
     "name": "stdout",
     "output_type": "stream",
     "text": [
      "Perceptron algorithm: iterations until convergence: 5\n"
     ]
    },
    {
     "data": {
      "image/png": "[encoded data removed]",
      "text/plain": [
       "<Figure size 432x288 with 1 Axes>"
      ]
     },
     "metadata": {
      "needs_background": "light"
     },
     "output_type": "display_data"
    }
   ],
   "source": [
    "run_perceptron('data_1.txt')"
   ]
  },
  {
   "cell_type": "markdown",
   "metadata": {},
   "source": [
    "And now, let's try running it on `data_2.txt`. *What's going on here?*"
   ]
  },
  {
   "cell_type": "code",
   "execution_count": 23,
   "metadata": {},
   "outputs": [
    {
     "name": "stdout",
     "output_type": "stream",
     "text": [
      "Perceptron algorithm: did not converge within the specified number of iterations\n"
     ]
    },
    {
     "data": {
      "image/png": "[encoded data removed]",
      "text/plain": [
       "<Figure size 432x288 with 1 Axes>"
      ]
     },
     "metadata": {
      "needs_background": "light"
     },
     "output_type": "display_data"
    }
   ],
   "source": [
    "run_perceptron('data_2.txt')"
   ]
  },
  {
   "cell_type": "markdown",
   "metadata": {},
   "source": [
    "### 3. For you to do"
   ]
  },
  {
   "cell_type": "markdown",
   "metadata": {},
   "source": [
    "<font color=\"magenta\">Design a data set</font> with the following specifications:\n",
    "* there are just two data points, with labels -1 and 1\n",
    "* the two points are distinct, with coordinate values in the range [-1,1]\n",
    "* the Perceptron algorithm requires more than 1000 iterations to converge"
   ]
  },
  {
   "cell_type": "code",
   "execution_count": 81,
   "metadata": {},
   "outputs": [
    {
     "data": {
      "image/png": "[encoded data removed]",
      "text/plain": [
       "<Figure size 432x288 with 1 Axes>"
      ]
     },
     "metadata": {
      "needs_background": "light"
     },
     "output_type": "display_data"
    },
    {
     "name": "stdout",
     "output_type": "stream",
     "text": [
      "[[ 0.         37.45401188  1.        ]\n",
      " [ 1.         95.07143064  1.        ]\n",
      " [ 2.         73.19939418  1.        ]\n",
      " [ 3.         59.86584842  1.        ]\n",
      " [ 4.         15.60186404  1.        ]\n",
      " [ 5.         15.59945203  1.        ]\n",
      " [ 6.          5.80836122 -1.        ]\n",
      " [ 7.         86.61761458  1.        ]\n",
      " [ 8.         60.11150117  1.        ]\n",
      " [ 9.         70.80725778  1.        ]\n",
      " [10.          2.05844943 -1.        ]\n",
      " [11.         96.99098522  1.        ]\n",
      " [12.         83.24426408  1.        ]\n",
      " [13.         21.23391107  1.        ]\n",
      " [14.         18.18249672  1.        ]\n",
      " [15.         18.34045099  1.        ]\n",
      " [16.         30.4242243   1.        ]\n",
      " [17.         52.47564316  1.        ]\n",
      " [18.         43.19450186  1.        ]\n",
      " [19.         29.12291402  1.        ]\n",
      " [20.         61.18528947  1.        ]\n",
      " [21.         13.94938607 -1.        ]\n",
      " [22.         29.21446485  1.        ]\n",
      " [23.         36.63618433  1.        ]\n",
      " [24.         45.60699842  1.        ]\n",
      " [25.         78.51759614  1.        ]\n",
      " [26.         19.96737822 -1.        ]\n",
      " [27.         51.42344384  1.        ]\n",
      " [28.         59.24145689  1.        ]\n",
      " [29.          4.64504127 -1.        ]\n",
      " [30.         60.75448519  1.        ]\n",
      " [31.         17.05241237 -1.        ]\n",
      " [32.          6.5051593  -1.        ]\n",
      " [33.         94.88855373  1.        ]\n",
      " [34.         96.56320331  1.        ]\n",
      " [35.         80.83973481  1.        ]\n",
      " [36.         30.46137692 -1.        ]\n",
      " [37.          9.7672114  -1.        ]\n",
      " [38.         68.42330265  1.        ]\n",
      " [39.         44.01524937  1.        ]\n",
      " [40.         12.20382348 -1.        ]\n",
      " [41.         49.51769101  1.        ]\n",
      " [42.          3.43885211 -1.        ]\n",
      " [43.         90.93204021  1.        ]\n",
      " [44.         25.87799816 -1.        ]\n",
      " [45.         66.25222844  1.        ]\n",
      " [46.         31.17110761 -1.        ]\n",
      " [47.         52.00680212  1.        ]\n",
      " [48.         54.67102793  1.        ]\n",
      " [49.         18.48544555 -1.        ]\n",
      " [50.         96.95846278  1.        ]\n",
      " [51.         77.51328234  1.        ]\n",
      " [52.         93.94989416  1.        ]\n",
      " [53.         89.48273504  1.        ]\n",
      " [54.         59.78999788  1.        ]\n",
      " [55.         92.1874235   1.        ]\n",
      " [56.          8.84925021 -1.        ]\n",
      " [57.         19.59828624 -1.        ]\n",
      " [58.          4.52272889 -1.        ]\n",
      " [59.         32.53303308 -1.        ]\n",
      " [60.         38.86772897 -1.        ]\n",
      " [61.         27.13490318 -1.        ]\n",
      " [62.         82.87375092  1.        ]\n",
      " [63.         35.67533267 -1.        ]\n",
      " [64.         28.09345097 -1.        ]\n",
      " [65.         54.26960832 -1.        ]\n",
      " [66.         14.0924225  -1.        ]\n",
      " [67.         80.21969808  1.        ]\n",
      " [68.          7.45506437 -1.        ]\n",
      " [69.         98.68869366  1.        ]\n",
      " [70.         77.22447693  1.        ]\n",
      " [71.         19.87156815 -1.        ]\n",
      " [72.          0.55221171 -1.        ]\n",
      " [73.         81.54614285  1.        ]\n",
      " [74.         70.68573438 -1.        ]\n",
      " [75.         72.9007168  -1.        ]\n",
      " [76.         77.12703467  1.        ]\n",
      " [77.          7.40446517 -1.        ]\n",
      " [78.         35.84657285 -1.        ]\n",
      " [79.         11.58690595 -1.        ]\n",
      " [80.         86.31034259  1.        ]\n",
      " [81.         62.32981268 -1.        ]\n",
      " [82.         33.08980249 -1.        ]\n",
      " [83.          6.35583503 -1.        ]\n",
      " [84.         31.09823217 -1.        ]\n",
      " [85.         32.5183322  -1.        ]\n",
      " [86.         72.96061783 -1.        ]\n",
      " [87.         63.75574714 -1.        ]\n",
      " [88.         88.72127426  1.        ]\n",
      " [89.         47.22149252 -1.        ]\n",
      " [90.         11.95942459 -1.        ]\n",
      " [91.         71.32447872 -1.        ]\n",
      " [92.         76.07850486 -1.        ]\n",
      " [93.         56.12771976 -1.        ]\n",
      " [94.         77.096718   -1.        ]\n",
      " [95.         49.37955964 -1.        ]\n",
      " [96.         52.27328294 -1.        ]\n",
      " [97.         42.75410184 -1.        ]\n",
      " [98.          2.54191267 -1.        ]\n",
      " [99.         10.7891427  -1.        ]]\n"
     ]
    }
   ],
   "source": [
    "np.random.seed(42)\n",
    "data = 100 * np.random.sample([100])\n",
    "\n",
    "slope = 1\n",
    "intercept = 0\n",
    "\n",
    "chart = np.zeros((len(data), 3))\n",
    "\n",
    "for i in range(len(chart)):\n",
    "    chart[i, 0] = i\n",
    "    chart[i, 1] = slope * data[i] + intercept\n",
    "plt.scatter(range(len(chart)), chart[:, 1])\n",
    "plt.plot(range(len(chart)), chart[:, 0], 'r', linewidth = 2)\n",
    "plt.show()\n",
    "\n",
    "for i, point in enumerate(chart[:,1]):\n",
    "    if point > chart[i, 0]:\n",
    "        chart[i, 2] = 1\n",
    "    else:\n",
    "        chart[i, 2] = -1\n",
    "\n",
    "print(chart)"
   ]
  },
  {
   "cell_type": "code",
   "execution_count": null,
   "metadata": {},
   "outputs": [],
   "source": []
  }
 ],
 "metadata": {
  "kernelspec": {
   "display_name": "Python 3",
   "language": "python",
   "name": "python3"
  },
  "language_info": {
   "codemirror_mode": {
    "name": "ipython",
    "version": 3
   },
   "file_extension": ".py",
   "mimetype": "text/x-python",
   "name": "python",
   "nbconvert_exporter": "python",
   "pygments_lexer": "ipython3",
   "version": "3.6.7"
  },
  "toc": {
   "colors": {
    "hover_highlight": "#DAA520",
    "navigate_num": "#000000",
    "navigate_text": "#333333",
    "running_highlight": "#FF0000",
    "selected_highlight": "#FFD700",
    "sidebar_border": "#EEEEEE",
    "wrapper_background": "#FFFFFF"
   },
   "moveMenuLeft": true,
   "nav_menu": {
    "height": "12px",
    "width": "252px"
   },
   "navigate_menu": true,
   "number_sections": false,
   "sideBar": true,
   "threshold": 4,
   "toc_cell": false,
   "toc_section_display": "block",
   "toc_window_display": false,
   "widenNotebook": false
  }
 },
 "nbformat": 4,
 "nbformat_minor": 1
}
