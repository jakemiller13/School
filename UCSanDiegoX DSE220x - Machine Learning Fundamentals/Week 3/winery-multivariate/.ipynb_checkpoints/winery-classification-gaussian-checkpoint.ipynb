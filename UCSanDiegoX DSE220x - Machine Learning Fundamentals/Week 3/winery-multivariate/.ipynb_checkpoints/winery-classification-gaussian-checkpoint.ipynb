{
 "cells": [
  {
   "cell_type": "markdown",
   "metadata": {},
   "source": [
    "# Winery classification with the multivariate Gaussian"
   ]
  },
  {
   "cell_type": "markdown",
   "metadata": {},
   "source": [
    "In this notebook, we return to winery classification, using the full set of 13 features."
   ]
  },
  {
   "cell_type": "markdown",
   "metadata": {},
   "source": [
    "## 1. Load in the data "
   ]
  },
  {
   "cell_type": "markdown",
   "metadata": {},
   "source": [
    "As usual, we start by loading in the Wine data set. Make sure the file `wine.data.txt` is in the same directory as this notebook.\n",
    "\n",
    "Recall that there are 178 data points, each with 13 features and a label (1,2,3). As before, we will divide this into a training set of 130 points and a test set of 48 points."
   ]
  },
  {
   "cell_type": "code",
   "execution_count": 1,
   "metadata": {},
   "outputs": [],
   "source": [
    "# Standard includes\n",
    "%matplotlib inline\n",
    "import numpy as np\n",
    "import matplotlib.pyplot as plt\n",
    "# Useful module for dealing with the Gaussian density\n",
    "from scipy.stats import norm, multivariate_normal "
   ]
  },
  {
   "cell_type": "code",
   "execution_count": 2,
   "metadata": {},
   "outputs": [],
   "source": [
    "# Load data set.\n",
    "data = np.loadtxt('wine.data.txt', delimiter=',')\n",
    "# Names of features\n",
    "featurenames = ['Alcohol', 'Malic acid', 'Ash', 'Alcalinity of ash','Magnesium', 'Total phenols', \n",
    "                'Flavanoids', 'Nonflavanoid phenols', 'Proanthocyanins', 'Color intensity', 'Hue', \n",
    "                'OD280/OD315 of diluted wines', 'Proline']\n",
    "# Split 178 instances into training set (trainx, trainy) of size 130 and test set (testx, testy) of size 48\n",
    "np.random.seed(0)\n",
    "perm = np.random.permutation(178)\n",
    "trainx = data[perm[0:130],1:14]\n",
    "trainy = data[perm[0:130],0]\n",
    "testx = data[perm[130:178], 1:14]\n",
    "testy = data[perm[130:178],0]"
   ]
  },
  {
   "cell_type": "markdown",
   "metadata": {},
   "source": [
    "## 2. Fit a Gaussian generative model"
   ]
  },
  {
   "cell_type": "markdown",
   "metadata": {},
   "source": [
    "We now define a function that fits a Gaussian generative model to the data.\n",
    "For each class (`j=1,2,3`), we have:\n",
    "* `pi[j]`: the class weight\n",
    "* `mu[j,:]`: the mean, a 13-dimensional vector\n",
    "* `sigma[j,:,:]`: the 13x13 covariance matrix\n",
    "\n",
    "This means that `pi` is a 4x1 array (Python arrays are indexed starting at zero, and we aren't using `j=0`), `mu` is a 4x13 array and `sigma` is a 4x13x13 array."
   ]
  },
  {
   "cell_type": "code",
   "execution_count": 3,
   "metadata": {},
   "outputs": [],
   "source": [
    "def fit_generative_model(x,y):\n",
    "    k = 3  # labels 1,2,...,k\n",
    "    d = (x.shape)[1]  # number of features\n",
    "    mu = np.zeros((k+1,d))\n",
    "    sigma = np.zeros((k+1,d,d))\n",
    "    pi = np.zeros(k+1)\n",
    "    for label in range(1,k+1):\n",
    "        indices = (y == label)\n",
    "        mu[label] = np.mean(x[indices,:], axis=0)\n",
    "        sigma[label] = np.cov(x[indices,:], rowvar=0, bias=1)\n",
    "        pi[label] = float(sum(indices))/float(len(y))\n",
    "    return mu, sigma, pi"
   ]
  },
  {
   "cell_type": "code",
   "execution_count": 4,
   "metadata": {},
   "outputs": [],
   "source": [
    "# Fit a Gaussian generative model to the training data\n",
    "mu, sigma, pi = fit_generative_model(trainx,trainy)"
   ]
  },
  {
   "cell_type": "code",
   "execution_count": 5,
   "metadata": {},
   "outputs": [
    {
     "data": {
      "text/plain": [
       "array([1.37853488e+01, 2.02232558e+00, 2.42790698e+00, 1.68813953e+01,\n",
       "       1.05837209e+02, 2.85162791e+00, 2.99627907e+00, 2.89069767e-01,\n",
       "       1.93069767e+00, 5.63023256e+00, 1.06232558e+00, 3.16674419e+00,\n",
       "       1.14190698e+03])"
      ]
     },
     "execution_count": 5,
     "metadata": {},
     "output_type": "execute_result"
    }
   ],
   "source": [
    "test_label = 1\n",
    "test_d = trainx.shape[1]\n",
    "test_mu = np.zeros((4, test_d))\n",
    "test_indices = (trainy == test_label)\n",
    "test_mu[test_label] = np.mean(trainx[test_indices, :], axis = 0)\n",
    "test_mu[1]"
   ]
  },
  {
   "cell_type": "code",
   "execution_count": 6,
   "metadata": {},
   "outputs": [
    {
     "data": {
      "text/plain": [
       "(13, 13)"
      ]
     },
     "execution_count": 6,
     "metadata": {},
     "output_type": "execute_result"
    }
   ],
   "source": [
    "sigma[1, :, :].shape"
   ]
  },
  {
   "cell_type": "code",
   "execution_count": 7,
   "metadata": {},
   "outputs": [
    {
     "data": {
      "text/plain": [
       "(2,)"
      ]
     },
     "execution_count": 7,
     "metadata": {},
     "output_type": "execute_result"
    }
   ],
   "source": [
    "test_features = [0, 2]\n",
    "testx[1, test_features].shape"
   ]
  },
  {
   "cell_type": "code",
   "execution_count": 8,
   "metadata": {},
   "outputs": [
    {
     "data": {
      "text/plain": [
       "array([13.78534884,  2.42790698])"
      ]
     },
     "execution_count": 8,
     "metadata": {},
     "output_type": "execute_result"
    }
   ],
   "source": [
    "mu[1, test_features]"
   ]
  },
  {
   "cell_type": "code",
   "execution_count": 9,
   "metadata": {},
   "outputs": [
    {
     "name": "stdout",
     "output_type": "stream",
     "text": [
      "[[ 2.33252785e-01 -1.35961601e-02 -3.93531639e-03 -3.13598161e-01\n",
      "   1.05226609e+00  6.06773391e-02  7.52687399e-02  4.65613845e-03\n",
      "   6.21497566e-02  2.21752244e-01  1.14922120e-02 -1.16165495e-03\n",
      "   4.04223580e+01]\n",
      " [-1.35961601e-02  4.31329475e-01 -9.77187669e-03  2.38159546e-01\n",
      "  -2.44040022e-01 -1.37782044e-02 -4.24053002e-02 -1.89085992e-03\n",
      "  -5.46760411e-02 -2.14098215e-01 -3.71030827e-02  1.33378042e-02\n",
      "  -4.66765279e+01]\n",
      " [-3.93531639e-03 -9.77187669e-03  3.67746890e-02  2.35263386e-01\n",
      "   5.65473229e-01  3.68015143e-03 -1.40778799e-03  4.47014602e-03\n",
      "  -1.05729584e-02  1.23742564e-04  5.77928610e-03 -5.94402380e-03\n",
      "   6.13422390e+00]\n",
      " [-3.13598161e-01  2.38159546e-01  2.35263386e-01  6.04011898e+00\n",
      "   5.56208761e+00 -1.75295295e-01 -3.16022715e-01  1.40292050e-02\n",
      "  -2.37452136e-01 -5.97414278e-01 -1.85613845e-02 -6.50373175e-02\n",
      "  -8.17156842e+01]\n",
      " [ 1.05226609e+00 -2.44040022e-01  5.65473229e-01  5.56208761e+00\n",
      "   1.18461871e+02  1.38398594e+00  6.48464035e-01  1.17290427e-01\n",
      "  -3.50118983e-01  3.74189832e+00 -1.81946998e-01  8.17376961e-01\n",
      "  -3.00108167e+02]\n",
      " [ 6.06773391e-02 -1.37782044e-02  3.68015143e-03 -1.75295295e-01\n",
      "   1.38398594e+00  1.18153164e-01  1.04524662e-01  3.92709573e-03\n",
      "   5.91709573e-02  2.61355435e-01 -3.81541374e-03 -6.01676582e-04\n",
      "   2.02678259e+01]\n",
      " [ 7.52687399e-02 -4.24053002e-02 -1.40778799e-03 -3.16022715e-01\n",
      "   6.48464035e-01  1.04524662e-01  1.52409410e-01  2.18723634e-03\n",
      "   1.10493294e-01  3.60203191e-01  9.51563007e-03 -1.51237426e-02\n",
      "   3.20915143e+01]\n",
      " [ 4.65613845e-03 -1.89085992e-03  4.47014602e-03  1.40292050e-02\n",
      "   1.17290427e-01  3.92709573e-03  2.18723634e-03  3.55727420e-03\n",
      "  -3.43656030e-03 -1.53272039e-04  1.41844240e-03 -5.92163332e-03\n",
      "   7.70378583e-01]\n",
      " [ 6.21497566e-02 -5.46760411e-02 -1.05729584e-02 -2.37452136e-01\n",
      "  -3.50118983e-01  5.91709573e-02  1.10493294e-01 -3.43656030e-03\n",
      "   2.05457653e-01  2.50525419e-01  1.10727961e-02 -1.53767983e-02\n",
      "   1.52768091e+01]\n",
      " [ 2.21752244e-01 -2.14098215e-01  1.23742564e-04 -5.97414278e-01\n",
      "   3.74189832e+00  2.61355435e-01  3.60203191e-01 -1.53272039e-04\n",
      "   2.50525419e-01  1.49972785e+00  2.84552731e-02 -1.12931801e-01\n",
      "   1.51096998e+02]\n",
      " [ 1.14922120e-02 -3.71030827e-02  5.77928610e-03 -1.85613845e-02\n",
      "  -1.81946998e-01 -3.81541374e-03  9.51563007e-03  1.41844240e-03\n",
      "   1.10727961e-02  2.84552731e-02  1.33248242e-02 -1.05645214e-02\n",
      "   1.21730070e+01]\n",
      " [-1.16165495e-03  1.33378042e-02 -5.94402380e-03 -6.50373175e-02\n",
      "   8.17376961e-01 -6.01676582e-04 -1.51237426e-02 -5.92163332e-03\n",
      "  -1.53767983e-02 -1.12931801e-01 -1.05645214e-02  1.26626609e-01\n",
      "  -2.66168145e+01]\n",
      " [ 4.04223580e+01 -4.66765279e+01  6.13422390e+00 -8.17156842e+01\n",
      "  -3.00108167e+02  2.02678259e+01  3.20915143e+01  7.70378583e-01\n",
      "   1.52768091e+01  1.51096998e+02  1.21730070e+01 -2.66168145e+01\n",
      "   4.84457588e+04]]\n"
     ]
    },
    {
     "data": {
      "text/plain": [
       "array([0.23325279, 0.03677469])"
      ]
     },
     "execution_count": 9,
     "metadata": {},
     "output_type": "execute_result"
    }
   ],
   "source": [
    "print(sigma[1])\n",
    "sigma[1, test_features, test_features]"
   ]
  },
  {
   "cell_type": "markdown",
   "metadata": {},
   "source": [
    "## 3. Use the model to make predictions on the test set"
   ]
  },
  {
   "cell_type": "markdown",
   "metadata": {},
   "source": [
    "<font color=\"magenta\">**For you to do**</font>: Define a general purpose testing routine that takes as input:\n",
    "* the arrays `pi`, `mu`, `sigma` defining the generative model, as above\n",
    "* the test set (points `tx` and labels `ty`)\n",
    "* a list of features `features` (chosen from 0-12)\n",
    "\n",
    "It should return the number of mistakes made by the generative model on the test data, *when restricted to the specified features*. For instance, using the just three features 2 (`'Ash'`), 4 (`'Magnesium'`) and 6 (`'Flavanoids'`) results in 7 mistakes (out of 48 test points), so \n",
    "\n",
    "        `test_model(mu, sigma, pi, [2,4,6], testx, testy)` \n",
    "\n",
    "should print 7/48.\n",
    "\n",
    "**Hint:** The way you restrict attention to a subset of features is by choosing the corresponding coordinates of the full 13-dimensional mean and the appropriate submatrix of the full 13x13 covariance matrix."
   ]
  },
  {
   "cell_type": "code",
   "execution_count": 10,
   "metadata": {},
   "outputs": [],
   "source": [
    "# Now test the performance of a predictor based on a subset of features\n",
    "from scipy.stats import multivariate_normal\n",
    "\n",
    "def test_model(mu, sigma, pi, features, tx, ty):\n",
    "    ###\n",
    "    ### Your code goes here\n",
    "    ###\n",
    "    k = 3\n",
    "    num_pts = len(ty)\n",
    "    scores = np.zeros((num_pts, k + 1)) # may need to add 1 to k here\n",
    "    for i in range(num_pts):\n",
    "        for label in range(1, k+1):\n",
    "            scores[i, label] = np.log(pi[label]) + \\\n",
    "                               multivariate_normal.logpdf(tx[i, features],\n",
    "                                                          mean = mu[label, features],\n",
    "                                                          cov = sigma[label, features, features])\n",
    "    predictions = np.argmax(scores[:, 1:4], axis = 1) + 1\n",
    "    errors = np.sum(predictions != ty)\n",
    "    print(scores)\n",
    "    print(predictions)\n",
    "    print(errors)"
   ]
  },
  {
   "cell_type": "markdown",
   "metadata": {},
   "source": [
    "### <font color=\"magenta\">Fast exercises</font>"
   ]
  },
  {
   "cell_type": "markdown",
   "metadata": {},
   "source": [
    "*Note down the answers to these questions. You will need to enter them as part of this week's assignment.*"
   ]
  },
  {
   "cell_type": "markdown",
   "metadata": {},
   "source": [
    "Exercise 1. How many errors are made on the test set when using the single feature 'Ash'?"
   ]
  },
  {
   "cell_type": "code",
   "execution_count": 11,
   "metadata": {},
   "outputs": [
    {
     "name": "stdout",
     "output_type": "stream",
     "text": [
      "[[  0.          -0.73103155  -1.29075971  -1.14761825]\n",
      " [  0.          -0.71281882  -0.71242668  -0.79974203]\n",
      " [  0.          -0.38438893  -0.83740347  -0.47955322]\n",
      " [  0.          -1.83571576  -0.77606112  -2.17137311]\n",
      " [  0.          -0.87550022  -1.39172724  -1.3764216 ]\n",
      " [  0.          -1.83571576  -0.77606112  -2.17137311]\n",
      " [  0.          -0.43649757  -0.78292091  -0.51080773]\n",
      " [  0.          -1.23785764  -1.61770454  -1.93492599]\n",
      " [  0.          -0.82462474  -1.35718094  -1.29641686]\n",
      " [  0.          -0.59623838  -0.72791067  -0.66979803]\n",
      " [  0.          -1.04444226  -1.50070885  -1.63885751]\n",
      " [  0.          -2.25625273  -2.16582811  -3.45552555]\n",
      " [  0.          -0.44446564  -1.03594161  -0.66300357]\n",
      " [  0.          -0.43649757  -0.78292091  -0.51080773]\n",
      " [  0.          -0.43649757  -0.78292091  -0.51080773]\n",
      " [  0.          -2.0593276   -2.06556965  -3.16472278]\n",
      " [  0.          -0.98540898  -1.46349119  -1.54764192]\n",
      " [  0.          -0.43649757  -0.78292091  -0.51080773]\n",
      " [  0.          -1.53381449  -1.78616514  -2.38200129]\n",
      " [  0.          -0.87550022  -1.39172724  -1.3764216 ]\n",
      " [  0.          -0.4106962   -0.98911036  -0.59641789]\n",
      " [  0.          -1.01939975  -0.70550093  -1.16052771]\n",
      " [  0.          -1.01939975  -0.70550093  -1.16052771]\n",
      " [  0.          -0.46542925  -1.06069292  -0.70190184]\n",
      " [  0.          -0.38438893  -0.83740347  -0.47955322]\n",
      " [  0.          -1.08001399  -0.70746322  -1.23373799]\n",
      " [  0.          -0.40500473  -0.80838128  -0.48770657]\n",
      " [  0.          -1.69810848  -1.87573816  -2.62796064]\n",
      " [  0.          -0.85387261  -0.70495676  -0.96331859]\n",
      " [  0.          -0.90632906  -0.7042477   -1.02531801]\n",
      " [  0.          -8.90427822  -5.09403484 -13.01532707]\n",
      " [  0.          -1.08001399  -0.70746322  -1.23373799]\n",
      " [  0.          -0.59623838  -0.72791067  -0.66979803]\n",
      " [  0.          -2.91229041  -2.48797439  -4.41762072]\n",
      " [  0.          -0.46542925  -1.06069292  -0.70190184]\n",
      " [  0.          -0.44446564  -1.03594161  -0.66300357]\n",
      " [  0.          -1.38039754  -1.70015393  -2.15098974]\n",
      " [  0.          -0.38780382  -0.94584091  -0.54478002]\n",
      " [  0.          -1.01939975  -0.70550093  -1.16052771]\n",
      " [  0.          -0.87550022  -1.39172724  -1.3764216 ]\n",
      " [  0.          -2.68273414  -2.37703048  -4.08197452]\n",
      " [  0.          -1.04444226  -1.50070885  -1.63885751]\n",
      " [  0.          -0.71281882  -0.71242668  -0.79974203]\n",
      " [  0.          -4.45543975  -1.24041611  -5.54957731]\n",
      " [  0.          -3.88123288  -1.12393161  -4.80082811]\n",
      " [  0.          -1.14334749  -0.71031597  -1.31068522]\n",
      " [  0.          -1.66282132  -0.75521791  -1.95395047]\n",
      " [  0.          -0.4106962   -0.98911036  -0.59641789]]\n",
      "[1 2 1 2 1 2 1 1 1 1 1 2 1 1 1 1 1 1 1 1 1 2 2 1 1 2 1 1 2 2 2 2 1 2 1 1 1\n",
      " 1 2 1 2 1 2 2 2 2 2 1]\n",
      "29\n"
     ]
    }
   ],
   "source": [
    "test_model(mu, sigma, pi, [2], testx, testy)"
   ]
  },
  {
   "cell_type": "markdown",
   "metadata": {},
   "source": [
    "Exercise 2. How many errors when using 'Alcohol' and 'Ash'?"
   ]
  },
  {
   "cell_type": "code",
   "execution_count": 12,
   "metadata": {},
   "outputs": [
    {
     "name": "stdout",
     "output_type": "stream",
     "text": [
      "[[  0.          -0.94135798  -5.94331748  -2.34890616]\n",
      " [  0.          -4.89998652  -1.01937348  -2.05067452]\n",
      " [  0.          -2.61472664  -1.56502041  -0.98557798]\n",
      " [  0.          -5.14119704  -1.19032026  -3.05218148]\n",
      " [  0.          -1.07089625  -5.77042046  -2.45580296]\n",
      " [  0.          -3.12376806  -2.08387151  -2.47709815]\n",
      " [  0.          -3.15273889  -1.33725891  -1.17293344]\n",
      " [  0.          -1.42948493  -5.67946638  -2.87959119]\n",
      " [  0.          -2.93144638  -2.1395051   -1.76723243]\n",
      " [  0.          -5.08144086  -1.01994569  -2.05480382]\n",
      " [  0.          -1.3980856   -4.33666898  -2.14562609]\n",
      " [  0.          -2.46273565  -6.76290351  -4.63173084]\n",
      " [  0.          -6.8696285   -1.41637004  -2.99850856]\n",
      " [  0.          -0.71801137  -3.92531505  -1.11215283]\n",
      " [  0.          -1.69409583  -2.11783529  -0.8135628 ]\n",
      " [  0.         -10.78500388  -2.83271926  -6.74562978]\n",
      " [  0.          -4.99890045  -1.78364182  -2.72233833]\n",
      " [  0.          -0.6514103   -4.39322994  -1.27706804]\n",
      " [  0.          -1.87586746  -4.66483737  -2.90122882]\n",
      " [  0.          -1.24116267  -4.18533001  -1.87108187]\n",
      " [  0.          -2.39786027  -1.8293343   -1.03518019]\n",
      " [  0.          -1.328551    -6.17205851  -2.7497914 ]\n",
      " [  0.          -6.00375129  -0.99212303  -2.77828497]\n",
      " [  0.          -6.89059211  -1.44112134  -3.03740683]\n",
      " [  0.          -3.10063025  -1.39174147  -1.14167893]\n",
      " [  0.         -17.5452125   -3.90346098  -9.4775799 ]\n",
      " [  0.          -1.06032198  -2.90021024  -0.82437978]\n",
      " [  0.          -2.14385671  -8.03064237  -4.57027782]\n",
      " [  0.          -1.23198288  -3.45655689  -1.44622121]\n",
      " [  0.          -9.20964193  -1.38343745  -4.37046109]\n",
      " [  0.         -10.25452474  -6.34870145 -13.328044  ]\n",
      " [  0.          -3.70405073  -1.29011392  -1.86432579]\n",
      " [  0.          -2.78497535  -1.47340863  -1.16373573]\n",
      " [  0.          -3.42172342  -4.87751362  -4.8104841 ]\n",
      " [  0.          -1.0615234   -7.8107155   -2.96464012]\n",
      " [  0.          -0.64474209  -4.84334904  -1.50504837]\n",
      " [  0.          -3.13982186  -2.66575516  -2.53511325]\n",
      " [  0.         -10.44487824  -2.03007956  -4.88557739]\n",
      " [  0.          -6.00375129  -0.99212303  -2.77828497]\n",
      " [  0.         -10.84081374  -2.4523435   -5.66410501]\n",
      " [  0.          -3.42128278  -4.32851782  -4.39896841]\n",
      " [  0.          -2.80386657  -2.46631008  -2.02298103]\n",
      " [  0.          -0.91588693  -5.25437444  -1.95121535]\n",
      " [  0.         -12.92641183  -1.95372562  -8.98797399]\n",
      " [  0.          -8.36643536  -1.41596662  -6.1858339 ]\n",
      " [  0.          -5.33051519  -1.01726277  -2.56161772]\n",
      " [  0.          -1.88212095  -5.51980461  -3.20645561]\n",
      " [  0.          -0.90270127  -7.33919478  -2.64238619]]\n",
      "[1 2 3 2 1 2 3 1 3 2 1 1 2 1 3 2 2 1 1 1 3 1 2 2 3 2 3 1 1 2 2 2 3 1 1 1 3\n",
      " 2 2 2 1 3 1 2 2 2 1 1]\n",
      "12\n"
     ]
    }
   ],
   "source": [
    "test_model(mu, sigma, pi, [0,2], testx, testy)"
   ]
  },
  {
   "cell_type": "markdown",
   "metadata": {},
   "source": [
    "Exercise 3. How many errors when using 'Alcohol', 'Ash', and 'Flavanoids'?"
   ]
  },
  {
   "cell_type": "code",
   "execution_count": 13,
   "metadata": {},
   "outputs": [
    {
     "name": "stdout",
     "output_type": "stream",
     "text": [
      "[[  0.          -1.96222922  -8.43093705 -55.21817814]\n",
      " [  0.          -9.26448331  -1.71976352  -9.6135414 ]\n",
      " [  0.         -14.51458033  -3.11481762  -1.35152751]\n",
      " [  0.         -24.27323096  -3.88268978  -2.88065025]\n",
      " [  0.          -1.58395535  -7.87233721 -49.41839493]\n",
      " [  0.          -3.51854111  -2.96843817 -26.12309541]\n",
      " [  0.         -13.71645004  -2.70058056  -2.11716321]\n",
      " [  0.          -1.5474256   -6.72385248 -30.5072356 ]\n",
      " [  0.         -21.74771515  -4.77845169  -1.55034105]\n",
      " [  0.          -6.03879743  -1.75887084 -21.09532866]\n",
      " [  0.          -2.0896953   -5.1291799  -23.06563876]\n",
      " [  0.          -2.44334731  -8.05129758 -37.44004639]\n",
      " [  0.          -8.48445531  -2.08188505 -18.54038554]\n",
      " [  0.          -0.81947255  -5.58931088 -40.84898432]\n",
      " [  0.         -10.13692072  -3.20917731  -3.14306435]\n",
      " [  0.         -12.63973684  -3.48452523 -21.26536268]\n",
      " [  0.         -24.13093437  -4.47601135  -2.55080709]\n",
      " [  0.          -0.93750271  -5.32667374 -26.21638417]\n",
      " [  0.         -21.97094391  -7.52169589  -2.898319  ]\n",
      " [  0.          -7.89321735  -5.07756201  -5.96445217]\n",
      " [  0.         -20.43619837  -4.33780074  -0.72861624]\n",
      " [  0.          -2.76326319  -6.85170589 -19.13378937]\n",
      " [  0.          -5.98222672  -2.3111459  -36.18934812]\n",
      " [  0.         -13.44939277  -2.32396216  -7.24165065]\n",
      " [  0.          -3.7323645   -2.19940722 -22.5451223 ]\n",
      " [  0.         -19.7633714   -4.54345959 -22.62325781]\n",
      " [  0.         -17.44495185  -5.13709433  -0.43985307]\n",
      " [  0.         -18.52848658 -10.26752645  -4.18575111]\n",
      " [  0.          -5.59647967  -4.15694694  -9.00908809]\n",
      " [  0.         -18.40628862  -2.5675972   -6.13265264]\n",
      " [  0.         -10.56104101  -7.27201814 -38.00598461]\n",
      " [  0.          -4.39566042  -2.08262483 -22.78433846]\n",
      " [  0.         -20.6696957   -3.95630656  -0.84330489]\n",
      " [  0.         -17.00301055  -6.67512216  -4.70452786]\n",
      " [  0.          -1.0461405   -9.2093876  -37.90630009]\n",
      " [  0.          -2.11216911  -7.62225161 -58.63651014]\n",
      " [  0.         -23.5611615   -5.57885007  -2.59925757]\n",
      " [  0.         -16.02118906  -2.82122282 -10.39891751]\n",
      " [  0.         -18.79521354  -2.67166446  -2.86165804]\n",
      " [  0.         -17.12378909  -3.30806581 -10.20910461]\n",
      " [  0.          -3.72779906  -5.25183451 -29.07690902]\n",
      " [  0.          -3.90984364  -3.18266253 -20.15630293]\n",
      " [  0.          -0.97175489  -6.84374878 -40.3795052 ]\n",
      " [  0.         -18.93946702  -2.78391198 -13.88593223]\n",
      " [  0.         -11.60105014  -2.06316166 -16.27111939]\n",
      " [  0.          -8.00338569  -1.65431769 -14.21829949]\n",
      " [  0.          -2.36901887  -7.59910958 -49.81140501]\n",
      " [  0.         -18.1795119   -9.72157709  -2.28004651]]\n",
      "[1 2 3 3 1 2 3 1 3 2 1 1 2 1 3 2 3 1 3 2 3 1 2 2 2 2 3 3 2 2 2 2 3 3 1 1 3\n",
      " 2 2 2 1 2 1 2 2 2 1 3]\n",
      "4\n"
     ]
    }
   ],
   "source": [
    "test_model(mu, sigma, pi, [0,2,6], testx, testy)"
   ]
  },
  {
   "cell_type": "markdown",
   "metadata": {},
   "source": [
    "Exercise 4. How many errors when using all 13 features?"
   ]
  },
  {
   "cell_type": "code",
   "execution_count": 14,
   "metadata": {},
   "outputs": [
    {
     "name": "stdout",
     "output_type": "stream",
     "text": [
      "[[   0.          -16.84364058  -35.59331471 -120.09544067]\n",
      " [   0.          -59.90487919  -20.96702235  -50.06360376]\n",
      " [   0.          -66.55858554  -29.27494293  -17.50471788]\n",
      " [   0.          -75.26536063  -35.9641739   -16.33168785]\n",
      " [   0.          -16.53351659  -36.05894088  -90.86292247]\n",
      " [   0.          -18.48575531  -22.3475438   -68.06005308]\n",
      " [   0.          -58.53120536  -26.40336355  -18.57864695]\n",
      " [   0.          -14.48586549  -41.19337457  -89.57747127]\n",
      " [   0.          -57.76154262  -23.83655325  -19.45071216]\n",
      " [   0.          -37.98318038  -17.70772309  -53.74304314]\n",
      " [   0.          -14.91513575  -25.61279158  -64.18663585]\n",
      " [   0.          -16.29908513  -27.18448248  -95.34359054]\n",
      " [   0.          -37.49474111  -17.48063489  -59.07424474]\n",
      " [   0.          -14.15990096  -46.96131664 -104.66747501]\n",
      " [   0.          -67.43882716  -48.19537414  -17.63237814]\n",
      " [   0.          -58.01556369  -22.2559594   -51.6702847 ]\n",
      " [   0.          -81.38574274  -40.24876434  -20.82389874]\n",
      " [   0.          -16.69540779  -24.00664215  -70.75389138]\n",
      " [   0.          -65.78660644  -26.96760093  -19.599496  ]\n",
      " [   0.          -64.5490366   -45.59224018  -24.71186408]\n",
      " [   0.          -75.50764694  -38.67491197  -14.14120164]\n",
      " [   0.          -14.58247665  -28.69121854  -79.77937335]\n",
      " [   0.          -38.79379449  -21.30279897  -94.71559668]\n",
      " [   0.          -46.82083598  -18.95072942  -49.139473  ]\n",
      " [   0.          -31.95974     -18.92775834  -69.46828208]\n",
      " [   0.          -67.90903454  -26.37888468  -95.09439193]\n",
      " [   0.          -64.26938404  -40.93827744  -12.47879952]\n",
      " [   0.          -77.497687    -53.06063609  -18.26978895]\n",
      " [   0.          -33.91084647  -19.36903089  -39.08066772]\n",
      " [   0.          -49.13388777  -18.19777645  -29.82539579]\n",
      " [   0.          -34.58289321  -25.87473348  -86.75494551]\n",
      " [   0.          -21.42212624  -16.94374079  -65.7256034 ]\n",
      " [   0.          -68.02785121  -51.0885276   -13.54797769]\n",
      " [   0.          -62.37187945  -44.15341072  -20.84862443]\n",
      " [   0.          -23.00763751  -33.70014136  -99.3519371 ]\n",
      " [   0.          -17.13340528  -43.16537722 -114.67613428]\n",
      " [   0.          -64.19571424  -24.56569488  -18.42506158]\n",
      " [   0.          -44.74886575  -17.62766895  -37.85922447]\n",
      " [   0.          -55.33760035  -22.34846811  -21.83431114]\n",
      " [   0.          -51.39118713  -20.64407311  -64.10221675]\n",
      " [   0.          -17.01599522  -23.23586867  -66.85445191]\n",
      " [   0.          -21.09226033  -21.40423783  -69.51168948]\n",
      " [   0.          -13.97903791  -37.34694352 -101.95605444]\n",
      " [   0.          -45.48394057  -17.33574194  -40.42943702]\n",
      " [   0.          -35.35086176  -18.73558469  -67.09772738]\n",
      " [   0.          -35.27183367  -16.81629863  -51.6634256 ]\n",
      " [   0.          -14.99929163  -32.83939432 -103.78222523]\n",
      " [   0.          -63.78256738  -52.24020347  -14.2975222 ]]\n",
      "[1 2 3 3 1 1 3 1 3 2 1 1 2 1 3 2 3 1 3 3 3 1 2 2 2 2 3 3 2 2 2 2 3 3 1 1 3\n",
      " 2 3 2 1 1 1 2 2 2 1 3]\n",
      "2\n"
     ]
    }
   ],
   "source": [
    "test_model(mu, sigma, pi, range(0,13), testx, testy)"
   ]
  },
  {
   "cell_type": "markdown",
   "metadata": {},
   "source": [
    "Exercise 5. In lecture, we got somewhat different answers to these questions. Why do you think that might be?"
   ]
  },
  {
   "cell_type": "code",
   "execution_count": null,
   "metadata": {},
   "outputs": [],
   "source": []
  }
 ],
 "metadata": {
  "kernelspec": {
   "display_name": "Python 3",
   "language": "python",
   "name": "python3"
  },
  "language_info": {
   "codemirror_mode": {
    "name": "ipython",
    "version": 3
   },
   "file_extension": ".py",
   "mimetype": "text/x-python",
   "name": "python",
   "nbconvert_exporter": "python",
   "pygments_lexer": "ipython3",
   "version": "3.6.7"
  },
  "toc": {
   "colors": {
    "hover_highlight": "#DAA520",
    "navigate_num": "#000000",
    "navigate_text": "#333333",
    "running_highlight": "#FF0000",
    "selected_highlight": "#FFD700",
    "sidebar_border": "#EEEEEE",
    "wrapper_background": "#FFFFFF"
   },
   "moveMenuLeft": true,
   "nav_menu": {
    "height": "12px",
    "width": "252px"
   },
   "navigate_menu": true,
   "number_sections": false,
   "sideBar": true,
   "threshold": 4,
   "toc_cell": false,
   "toc_section_display": "block",
   "toc_window_display": false,
   "widenNotebook": false
  }
 },
 "nbformat": 4,
 "nbformat_minor": 1
}
