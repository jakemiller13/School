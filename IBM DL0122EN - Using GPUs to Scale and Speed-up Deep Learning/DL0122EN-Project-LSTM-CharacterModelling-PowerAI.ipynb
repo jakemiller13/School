{
 "cells": [
  {
   "cell_type": "markdown",
   "metadata": {
    "button": false,
    "deletable": true,
    "new_sheet": false,
    "run_control": {
     "read_only": false
    }
   },
   "source": [
    "<a href=\"https://www.bigdatauniversity.com\"><img src=\"https://ibm.box.com/shared/static/qo20b88v1hbjztubt06609ovs85q8fau.png\" width=\"400px\" align=\"center\"></a>\n",
    "\n",
    "<br><br>\n",
    "\n",
    "<h1 align=\"center\"><font size=\"5\">Project: Character Modeling</font></h1>"
   ]
  },
  {
   "cell_type": "markdown",
   "metadata": {
    "button": false,
    "deletable": true,
    "new_sheet": false,
    "run_control": {
     "read_only": false
    }
   },
   "source": [
    "<font size=\"3\"><strong>In this notebook you will use TensorFlow to create a Recurrent Neural Network, to predict the next character in a string. You need to train your network using a CPU and using a GPU and benchmark the result to see which which device You have to write your code in empty cells in this notebook to make it complete, and then submit the notebook for peer-review.</strong></font>\n",
    "\n",
    "<h2>Table of Contents</h2>\n",
    "<ul>\n",
    "    <li><a href=\"#intro\">Introduction</a></li>\n",
    "    <li><a href=\"#lstm\">Long Short-Term Memory Model (LSTM) Architectures</a></li>\n",
    "    <li><a href=\"#cpu_vs_gpu\">Train your model using CPU and GPU</a>\n",
    "        <ol>\n",
    "            <li><a href=\"#question_1\">Question 1: Complete the code to run it on CPU</a></li>\n",
    "            <li><a href=\"#question_2\">Question 2: Complete the code to run it on GPU</a></li>\n",
    "            <li><a href=\"#question_3\">Question 3: Compare the results</a></li>\n",
    "        </ol>    \n",
    "    </li>\n",
    "</ul>\n",
    "<p></p>\n",
    "</div>\n",
    "<br>\n",
    "<hr>"
   ]
  },
  {
   "cell_type": "markdown",
   "metadata": {
    "button": false,
    "deletable": true,
    "new_sheet": false,
    "run_control": {
     "read_only": false
    }
   },
   "source": [
    "<a id=\"intro\"></a>\n",
    "<h2>Introduction</h2>"
   ]
  },
  {
   "cell_type": "markdown",
   "metadata": {
    "button": false,
    "deletable": true,
    "new_sheet": false,
    "run_control": {
     "read_only": false
    }
   },
   "source": [
    "<p>This code is supposed to implement a Recurrent Neural Network with LSTM units for training/sampling from character-level language models. In other words, the model takes a text file as input and trains the RNN network that learns to predict the next character in a sequence.</p>  \n",
    "The RNN can then be used to generate text character by character that will look like the original training data. \n",
    "\n",
    "<p>This code is based on this <a href=\"http://karpathy.github.io/2015/05/21/rnn-effectiveness/\">blog</a>, and the code is an step-by-step implementation of the <a href=\"https://github.com/crazydonkey200/tensorflow-char-rnn\">character-level implimentation</a>.</p>\n",
    "\n",
    "<p>I recommend you to complete the \"<a href=\"https://www.edx.org/course/deep-learning-with-tensorflow\">Deep Learning with TensorFlow</a>\" course for this project.</p>"
   ]
  },
  {
   "cell_type": "markdown",
   "metadata": {
    "button": false,
    "deletable": true,
    "new_sheet": false,
    "run_control": {
     "read_only": false
    }
   },
   "source": [
    "First, lets import the required libraries:"
   ]
  },
  {
   "cell_type": "code",
   "execution_count": 1,
   "metadata": {
    "button": false,
    "collapsed": true,
    "deletable": true,
    "new_sheet": false,
    "run_control": {
     "read_only": false
    }
   },
   "outputs": [
    {
     "name": "stderr",
     "output_type": "stream",
     "text": [
      "/opt/anaconda3/lib/python3.6/site-packages/h5py/__init__.py:36: FutureWarning: Conversion of the second argument of issubdtype from `float` to `np.floating` is deprecated. In future, it will be treated as `np.float64 == np.dtype(float).type`.\n",
      "  from ._conv import register_converters as _register_converters\n"
     ]
    }
   ],
   "source": [
    "import tensorflow as tf\n",
    "import time\n",
    "import codecs\n",
    "import os\n",
    "import collections\n",
    "from six.moves import cPickle\n",
    "import numpy as np\n",
    "config = tf.ConfigProto()\n",
    "config.gpu_options.allow_growth = True\n",
    "config.log_device_placement = True"
   ]
  },
  {
   "cell_type": "markdown",
   "metadata": {
    "button": false,
    "deletable": true,
    "new_sheet": false,
    "run_control": {
     "read_only": false
    }
   },
   "source": [
    "Libraries\n",
    "<ul>\n",
    "    <li><b>os</b>: is an module that allows us to interact with the operating systerm, in particular we will use it to set the path in which we will be storing our input file, tensor file and vocab file</li>\n",
    "    <li><b>time</b>: is a library that allows us to access the clock time of our machine, we will use it to measure the performance of training our model with a CPU, versus training our model with a GPU</li>\n",
    "    <li><b>cPickle</b>: is a library for serializing and deserializing python objects, we will use the <b>dump()</b> method in cPickle to serialize our objects when saving them, and <b>load()</b> method in cPickle to deserialize our objects when loading.</li>\n",
    "    <li><b>codec</b>: is a library that deals with character encoding, we will use the <b>open()</b> method as it is recommended when opening encoded text files.</li>\n",
    "    <li><b>collections</b>: is a library that implements high performance container types, we will use the <b>Counter</b> object to get a collection of frequencies for our characters</li>\n",
    "</ul>"
   ]
  },
  {
   "cell_type": "markdown",
   "metadata": {
    "button": false,
    "deletable": true,
    "new_sheet": false,
    "run_control": {
     "read_only": false
    }
   },
   "source": [
    "<h3>Downloading the input data</h3>\n",
    "Lets download the input file, and take a look at some parts of it:"
   ]
  },
  {
   "cell_type": "code",
   "execution_count": 2,
   "metadata": {
    "button": false,
    "collapsed": false,
    "deletable": true,
    "new_sheet": false,
    "run_control": {
     "read_only": false
    }
   },
   "outputs": [
    {
     "name": "stdout",
     "output_type": "stream",
     "text": [
      "2018-12-31 20:02:06 URL:https://public.boxcloud.com/d/1/b1!Q97Bzr3RHSdr-HQAdY65kFHmufM27UffQ1u-TyCavmS_S9z7OJ_VRE2DsizL7uMVhBSxsCvqWnjSbm2vAXCiN9eFFJviOg1iLKSlvaUqSFdkKbdA-OwZt5z1JW2y8ptNEHa5ZdDkIb9UCjkhPGpNahbkOZBTK59geq0ba4z6Byj_3qdESX62Zu6aXaHHOku26eNW_LS2nLJH-eXWidCIU-7fOwecPLEijRirati-VuRN0ZEk5UysSF5F1CN6nlZXMBKGnRBEzOV0XQNyTx9oO9PyzkMGA3oEBcEhJiya_xWK6zWEYm4kCFQffdSDlL3l2NVdeyw6i5Xsskac9DDoJwsCYxGhsWbBKfqpw1JDRrxhe0p8v3auGDlseqJWwXgBpDtzmcKom9pGVJU0exOaCtGXec9r88Ceno8enhdYOYC9l94I1I8zb5chETnR1KN7PsrXAqZPprpFZGX9BKSwYKrmg-fWUIDRS68hBdUBh86AVmm9ZoCAYm6mgwiZn5NXVPojof2Y_T4SOMKcqA1W94qgsKSFlL08iVh61XcXF_iPfUMumGnXpD6o1pOEjTNUP1gOOV4l4YmdEUj37MklS-t0RrBgvF4QHgPnVdQbbjnLe-z67AAp_oJH8eUEM7QB5ced7H2tK9JcAqxvPm772nMclW1bdSkF7HT9_JkXxWZ3lpGmBwhGq8enhx7eTmAMGdPUwxk75QQKtCAO7bxYtfPfFwZuMIhvQAoWZckRT5nazRwsiGOkTZGQRFpgUbowcFUaqEKwytYGIeoTo5PWw9qz7ejPi7QMTFqrVOfla_MNJxHSDGV6aviN10ukuYvwaO5dGadL741oR6fEqqLQQMvlJ7BS1doYE8fPs36H7BUTsLW7QJ6GNjfqMaTrbRCWYOzMVMsv8mCZUQ0qVLMNJehhw24x7FI5MJBTJBz4BR2VbCitMwF7qMKEUUSQPPjKTI40ODEIPPFooDX8NQFGMb9WsbdGfPmmG3Qs3qjmh9K1EU9MENcPgIkYtfzWQeRbn56gukGUaGi-uUfEu_z4hgRGwe6UjtXmF1qFvENd1d9NPlhUZxsk24MB_yKpsZVW7MK4mVJAj_k5cYyiw9A87PsGMuvPW9jIqGTlJIDI_nGPhYJA2_jJzOfo2trCw4gqrYCuXim_ZDh1a0O0oMuipBITUE74Hilu0QGGLY_dxCd13N_9eI3qez3bsLFggjBsHL5oJRyv_4LOxerx44D3Gb8tvvxvkiZo-00IYF9U00XXKq3tLXlxj0FnSaJTe3jXeid2pQvaGQjzRHbj0YMyh0XkpuKp-PJrZdXt02ss7ftOWI7hvIAMpVvY4t61qYSR0pauIsDm94nIoz8wBIpega6TkuMZBk5_8AKnVVZB-qIXqw../download [1115393/1115393] -> \"input.txt\" [1]\n",
      "-------------Sample text---------------\n",
      "First Citizen:\n",
      "Before we proceed any further, hear me speak.\n",
      "\n",
      "All:\n",
      "Speak, speak.\n",
      "\n",
      "First Citizen:\n",
      "You are all resolved rather to die than to famish?\n",
      "\n",
      "All:\n",
      "Resolved. resolved.\n",
      "\n",
      "First Citizen:\n",
      "First, you know Caius Marcius is chief enemy to the people.\n",
      "\n",
      "All:\n",
      "We know't, we know't.\n",
      "\n",
      "First Citizen:\n",
      "Let us kill him, and we'll have corn at our own price.\n",
      "Is't a verdict?\n",
      "\n",
      "All:\n",
      "No more talking on't; let it be done: away, away!\n",
      "\n",
      "Second Citizen:\n",
      "One word, good citizens.\n",
      "\n",
      "First Citizen:\n",
      "We are accounted poor\n",
      "---------------------------------------\n"
     ]
    },
    {
     "data": {
      "text/plain": [
       "True"
      ]
     },
     "execution_count": 2,
     "metadata": {},
     "output_type": "execute_result"
    }
   ],
   "source": [
    "!wget -nv -O input.txt https://ibm.box.com/shared/static/a3f9e9mbpup09toq35ut7ke3l3lf03hg.txt \n",
    "with open('input.txt', 'r') as f:\n",
    "    read_data = f.read()\n",
    "    print(\"-------------Sample text---------------\")\n",
    "    print (read_data[0:500])\n",
    "    print(\"---------------------------------------\")\n",
    "f.closed"
   ]
  },
  {
   "cell_type": "markdown",
   "metadata": {
    "button": false,
    "deletable": true,
    "new_sheet": false,
    "run_control": {
     "read_only": false
    }
   },
   "source": [
    "<h3>Data loader</h3>\n",
    "You need to read the input file and convert each character to numerical values. The following cell is a class that helps to read data from input file."
   ]
  },
  {
   "cell_type": "code",
   "execution_count": 3,
   "metadata": {
    "button": false,
    "collapsed": true,
    "deletable": true,
    "new_sheet": false,
    "run_control": {
     "read_only": false
    }
   },
   "outputs": [],
   "source": [
    "class TextLoader():\n",
    "    def __init__(self, data_dir, batch_size, seq_length, encoding='utf-8'):\n",
    "        self.data_dir = data_dir\n",
    "        self.batch_size = batch_size\n",
    "        self.seq_length = seq_length\n",
    "        self.encoding = encoding\n",
    "\n",
    "        input_file = os.path.join(data_dir, \"input.txt\")\n",
    "        vocab_file = os.path.join(data_dir, \"vocab.pkl\")\n",
    "        tensor_file = os.path.join(data_dir, \"data.npy\")\n",
    "\n",
    "        if not (os.path.exists(vocab_file) and os.path.exists(tensor_file)):\n",
    "            print(\"reading text file\")\n",
    "            self.preprocess(input_file, vocab_file, tensor_file)\n",
    "        else:\n",
    "            print(\"loading preprocessed files\")\n",
    "            self.load_preprocessed(vocab_file, tensor_file)\n",
    "        self.create_batches()\n",
    "        self.reset_batch_pointer()\n",
    "\n",
    "    def preprocess(self, input_file, vocab_file, tensor_file):\n",
    "        with codecs.open(input_file, \"r\", encoding=self.encoding) as f:\n",
    "            data = f.read()\n",
    "        counter = collections.Counter(data)\n",
    "        count_pairs = sorted(counter.items(), key=lambda x: -x[1])\n",
    "        self.chars, _ = zip(*count_pairs)\n",
    "        self.vocab_size = len(self.chars)\n",
    "        self.vocab = dict(zip(self.chars, range(len(self.chars))))\n",
    "        with open(vocab_file, 'wb') as f:\n",
    "            cPickle.dump(self.chars, f)\n",
    "        self.tensor = np.array(list(map(self.vocab.get, data)))\n",
    "        np.save(tensor_file, self.tensor)\n",
    "\n",
    "    def load_preprocessed(self, vocab_file, tensor_file):\n",
    "        with open(vocab_file, 'rb') as f:\n",
    "            self.chars = cPickle.load(f)\n",
    "        self.vocab_size = len(self.chars)\n",
    "        self.vocab = dict(zip(self.chars, range(len(self.chars))))\n",
    "        self.tensor = np.load(tensor_file)\n",
    "        self.num_batches = int(self.tensor.size / (self.batch_size * self.seq_length))\n",
    "\n",
    "    def create_batches(self):\n",
    "        self.num_batches = int(self.tensor.size / (self.batch_size * self.seq_length))\n",
    "\n",
    "        # When the data (tensor) is too small, let's give them a better error message\n",
    "        if self.num_batches==0:\n",
    "            assert False, \"Not enough data. Make seq_length and batch_size small.\"\n",
    "\n",
    "        self.tensor = self.tensor[:self.num_batches * self.batch_size * self.seq_length]\n",
    "        xdata = self.tensor\n",
    "        ydata = np.copy(self.tensor)\n",
    "        ydata[:-1] = xdata[1:]\n",
    "        ydata[-1] = xdata[0]\n",
    "        self.x_batches = np.split(xdata.reshape(self.batch_size, -1), self.num_batches, 1)\n",
    "        self.y_batches = np.split(ydata.reshape(self.batch_size, -1), self.num_batches, 1)\n",
    "\n",
    "\n",
    "    def next_batch(self):\n",
    "        x, y = self.x_batches[self.pointer], self.y_batches[self.pointer]\n",
    "        self.pointer += 1\n",
    "        return x, y\n",
    "\n",
    "    def reset_batch_pointer(self):\n",
    "        self.pointer = 0"
   ]
  },
  {
   "cell_type": "markdown",
   "metadata": {
    "button": false,
    "deletable": true,
    "new_sheet": false,
    "run_control": {
     "read_only": false
    }
   },
   "source": [
    "<h3>Parameters</h3>"
   ]
  },
  {
   "cell_type": "markdown",
   "metadata": {
    "button": false,
    "deletable": true,
    "new_sheet": false,
    "run_control": {
     "read_only": false
    }
   },
   "source": [
    "<p>We have to convert the characters in the string to numbers. Also we need to represent each sequence of characters as a vector in each batch.</p>\n",
    "So, let's set some parameters that we need those now for reading the dataset, and later to build the model."
   ]
  },
  {
   "cell_type": "code",
   "execution_count": 4,
   "metadata": {
    "button": false,
    "collapsed": true,
    "deletable": true,
    "new_sheet": false,
    "run_control": {
     "read_only": false
    }
   },
   "outputs": [],
   "source": [
    "seq_length = 50 # RNN sequence length\n",
    "batch_size = 128  # minibatch size, i.e. size of data in each epoch\n",
    "num_epochs = 50 # you should change it to 50 if you want to see a relatively good results <- was 20, changed to 50\n",
    "learning_rate = 0.002\n",
    "decay_rate = 0.97\n",
    "rnn_size = 128 # size of RNN hidden state (output dimension)\n",
    "num_layers = 2 #number of layers in the RNN"
   ]
  },
  {
   "cell_type": "markdown",
   "metadata": {
    "button": false,
    "deletable": true,
    "new_sheet": false,
    "run_control": {
     "read_only": false
    }
   },
   "source": [
    "<p>Now, we can read the data at batches using the <b>TextLoader</b> class. It will convert the characters to numbers, and represent each sequence as a vector in batches:</p>"
   ]
  },
  {
   "cell_type": "code",
   "execution_count": 5,
   "metadata": {
    "button": false,
    "collapsed": false,
    "deletable": true,
    "new_sheet": false,
    "run_control": {
     "read_only": false
    }
   },
   "outputs": [
    {
     "name": "stdout",
     "output_type": "stream",
     "text": [
      "loading preprocessed files\n",
      "vocabulary size: 65\n",
      "Characters: (' ', 'e', 't', 'o', 'a', 'h', 's', 'r', 'n', 'i', '\\n', 'l', 'd', 'u', 'm', 'y', ',', 'w', 'f', 'c', 'g', 'I', 'b', 'p', ':', '.', 'A', 'v', 'k', 'T', \"'\", 'E', 'O', 'N', 'R', 'S', 'L', 'C', ';', 'W', 'U', 'H', 'M', 'B', '?', 'G', '!', 'D', '-', 'F', 'Y', 'P', 'K', 'V', 'j', 'q', 'x', 'z', 'J', 'Q', 'Z', 'X', '3', '&', '$')\n",
      "vocab number of 'F': 49\n",
      "Character sequences (first batch): [[49  9  7 ...  1  4  7]\n",
      " [39  5  3 ...  0 20  9]\n",
      " [ 0  5  9 ... 19  4 13]\n",
      " ...\n",
      " [ 3 18 18 ...  1  0 23]\n",
      " [ 7  1 23 ... 18  3  7]\n",
      " [47 26 24 ...  0  8  3]]\n"
     ]
    }
   ],
   "source": [
    "data_loader = TextLoader('', batch_size, seq_length)\n",
    "vocab_size = data_loader.vocab_size\n",
    "print (\"vocabulary size:\" , data_loader.vocab_size)\n",
    "print (\"Characters:\" , data_loader.chars)\n",
    "print (\"vocab number of 'F':\", data_loader.vocab['F'])\n",
    "print (\"Character sequences (first batch):\", data_loader.x_batches[0])"
   ]
  },
  {
   "cell_type": "markdown",
   "metadata": {
    "button": false,
    "deletable": true,
    "new_sheet": false,
    "run_control": {
     "read_only": false
    }
   },
   "source": [
    "<b>Notice:</b> In the following cells, we just go through the process of defining each element of the LSTM, and explore the inputs, outputs of each layer. Then, we put all together and run the network."
   ]
  },
  {
   "cell_type": "markdown",
   "metadata": {
    "button": false,
    "deletable": true,
    "new_sheet": false,
    "run_control": {
     "read_only": false
    }
   },
   "source": [
    "<h3>1- Input and Output</h3>\n",
    "In the next cell we just take a look at a sample batch to underestand the data better. Each batch includes the input, <b>x</b>, and the character that we want to predict, <b>y</b>:"
   ]
  },
  {
   "cell_type": "code",
   "execution_count": 6,
   "metadata": {
    "button": false,
    "collapsed": false,
    "deletable": true,
    "new_sheet": false,
    "run_control": {
     "read_only": false
    }
   },
   "outputs": [
    {
     "data": {
      "text/plain": [
       "array([[49,  9,  7, ...,  1,  4,  7],\n",
       "       [39,  5,  3, ...,  0, 20,  9],\n",
       "       [ 0,  5,  9, ..., 19,  4, 13],\n",
       "       ...,\n",
       "       [ 3, 18, 18, ...,  1,  0, 23],\n",
       "       [ 7,  1, 23, ..., 18,  3,  7],\n",
       "       [47, 26, 24, ...,  0,  8,  3]])"
      ]
     },
     "execution_count": 6,
     "metadata": {},
     "output_type": "execute_result"
    }
   ],
   "source": [
    "x, y = data_loader.next_batch()\n",
    "x"
   ]
  },
  {
   "cell_type": "code",
   "execution_count": 7,
   "metadata": {
    "button": false,
    "collapsed": false,
    "deletable": true,
    "new_sheet": false,
    "run_control": {
     "read_only": false
    }
   },
   "outputs": [
    {
     "data": {
      "text/plain": [
       "(128, 50)"
      ]
     },
     "execution_count": 7,
     "metadata": {},
     "output_type": "execute_result"
    }
   ],
   "source": [
    "x.shape  #batch_size =128, seq_length=50"
   ]
  },
  {
   "cell_type": "markdown",
   "metadata": {
    "button": false,
    "deletable": true,
    "new_sheet": false,
    "run_control": {
     "read_only": false
    }
   },
   "source": [
    "Here, __y__ is the next character for each character in __x__:"
   ]
  },
  {
   "cell_type": "code",
   "execution_count": 8,
   "metadata": {
    "button": false,
    "collapsed": false,
    "deletable": true,
    "new_sheet": false,
    "run_control": {
     "read_only": false
    }
   },
   "outputs": [
    {
     "data": {
      "text/plain": [
       "array([[ 9,  7,  6, ...,  4,  7,  0],\n",
       "       [ 5,  3,  0, ..., 20,  9, 27],\n",
       "       [ 5,  9, 14, ...,  4, 13, 20],\n",
       "       ...,\n",
       "       [18, 18,  9, ...,  0, 23, 11],\n",
       "       [ 1, 23,  3, ...,  3,  7,  0],\n",
       "       [26, 24, 10, ...,  8,  3,  2]])"
      ]
     },
     "execution_count": 8,
     "metadata": {},
     "output_type": "execute_result"
    }
   ],
   "source": [
    "y"
   ]
  },
  {
   "cell_type": "markdown",
   "metadata": {
    "button": false,
    "deletable": true,
    "new_sheet": false,
    "run_control": {
     "read_only": false
    }
   },
   "source": [
    "<a id=\"lstm\"></a>\n",
    "<h3>2- What is Long Short-Term Memory Model (LSTM)?</h3>\n",
    "\n",
    "<p>Recurrent Neural Networks are Deep Learning models with simple structures and a feedback mechanism built-in, or in different words, the output of a layer is added to the next input and fed back to the same layer.</p>\n",
    "\n",
    "<p>The Recurrent Neural Network is a specialized type of Neural Network that solves the issue of <b>maintaining context for Sequential data</b> -- such as Weather data, Stocks, Genes, etc. At each iterative step, the processing unit takes in an input and the current state of the network, and produces an output and a new state that is <b>re-fed into the network</b>.</p>\n",
    "\n",
    "<p>However, <b>this model has some problems</b>. It's very computationally expensive to maintain the state for a large amount of units, even more so over a long amount of time. Additionally, Recurrent Networks are very sensitive to changes in their parameters. To solve these problems, we use a specific type of RNN, is called Long Short-Term Memory (LSTM).</p>\n",
    "\n",
    "\n",
    "Each LSTM cell has 5 parts:\n",
    "<ol>\n",
    "    <li>Input</li>\n",
    "    <li>prv_state</li>\n",
    "    <li>prv_output</li>\n",
    "    <li>new_state</li>\n",
    "    <li>new_output</li>\n",
    "</ol>\n",
    "\n",
    "<ul>\n",
    "    <li>Each LSTM cell has an input layer, which its size is 128 units in our case. The input vector's dimension also is 128, which is the dimensionality of embedding vector, so called, dimension size of Word2Vec embedding, for each character.</li>\n",
    "    <li>Each LSTM cell has a hidden layer, where there are some hidden units. The argument n_hidden=128 of BasicLSTMCell is the number of hidden units of the LSTM (inside A). It keeps the size of the output and state vector. It is also known as, rnn_size, num_units, num_hidden_units, and LSTM size, in literature.</li>\n",
    "    <li>An LSTM keeps two pieces of information as it propagates through time:</li> \n",
    "    <ul>\n",
    "         <li><b>hidden state</b> vector: Each LSTM cell accept a vector, called <b>hidden state</b> vector, of size n_hidden=128, and its value is returned to the LSTM cell in the next step. The <b>hidden state</b> vector; which is the memory of the LSTM, accumulates using its (forget, input, and output) gates through time. \"num_units\" is equivalant to \"size of RNN hidden state\". Number of hidden units is the dimensianality of the output (= dimesianality of the state) of the LSTM cell.</li>\n",
    "        <li><b>previous time-step output</b>: For each LSTM cell that we initialize, we need to supply a value (128 in this case) for the hidden dimension, or as some people like to call it, the number of units in the LSTM cell.</li> \n",
    "    </ul>\n",
    "</ul>\n",
    "<br>\n",
    "\n",
    "<h4>Stacked LSTM</h4>\n",
    "<p>What about if we want to have a RNN with stacked LSTM? For example, a 2-layer LSTM. In this case, the output of the first layer will become the input of the second.</p>\n",
    "\n",
    "num_layers = 2 \n",
    "<ul>\n",
    "    <li>number of layers in the RNN, is defined by <code>num_layers</code> parameter.</li>\n",
    "    <li>An input of MultiRNNCell is <b>cells</b> which is list of RNNCells that will be composed in this order.</li>\n",
    "</ul>\n",
    "<br>"
   ]
  },
  {
   "cell_type": "markdown",
   "metadata": {
    "button": false,
    "deletable": true,
    "new_sheet": false,
    "run_control": {
     "read_only": false
    }
   },
   "source": [
    "<h3>3- Defining stacked RNN Cell</h3>"
   ]
  },
  {
   "cell_type": "markdown",
   "metadata": {
    "button": false,
    "deletable": true,
    "new_sheet": false,
    "run_control": {
     "read_only": false
    }
   },
   "source": [
    "<b>BasicRNNCell</b> is the most basic RNN cell."
   ]
  },
  {
   "cell_type": "code",
   "execution_count": 9,
   "metadata": {
    "button": false,
    "collapsed": true,
    "deletable": true,
    "new_sheet": false,
    "run_control": {
     "read_only": false
    }
   },
   "outputs": [
    {
     "data": {
      "text/plain": [
       "128"
      ]
     },
     "execution_count": 9,
     "metadata": {},
     "output_type": "execute_result"
    }
   ],
   "source": [
    "# to define a LSTM cell\n",
    "cell = tf.contrib.rnn.BasicRNNCell(rnn_size)\n",
    "# a two layer cell\n",
    "stacked_cell = tf.contrib.rnn.MultiRNNCell([cell] * num_layers)\n",
    "# hidden state size\n",
    "stacked_cell.output_size"
   ]
  },
  {
   "cell_type": "markdown",
   "metadata": {
    "button": false,
    "deletable": true,
    "new_sheet": false,
    "run_control": {
     "read_only": false
    }
   },
   "source": [
    "<b>state</b> variable keeps output and new_state of the LSTM, so it is double in size:"
   ]
  },
  {
   "cell_type": "code",
   "execution_count": 10,
   "metadata": {
    "button": false,
    "collapsed": false,
    "deletable": true,
    "new_sheet": false,
    "run_control": {
     "read_only": false
    }
   },
   "outputs": [
    {
     "data": {
      "text/plain": [
       "(128, 128)"
      ]
     },
     "execution_count": 10,
     "metadata": {},
     "output_type": "execute_result"
    }
   ],
   "source": [
    "stacked_cell.state_size"
   ]
  },
  {
   "cell_type": "markdown",
   "metadata": {
    "button": false,
    "deletable": true,
    "new_sheet": false,
    "run_control": {
     "read_only": false
    }
   },
   "source": [
    "Lets define the input data:"
   ]
  },
  {
   "cell_type": "code",
   "execution_count": 11,
   "metadata": {
    "button": false,
    "collapsed": false,
    "deletable": true,
    "new_sheet": false,
    "run_control": {
     "read_only": false
    }
   },
   "outputs": [
    {
     "data": {
      "text/plain": [
       "<tf.Tensor 'Placeholder:0' shape=(128, 50) dtype=int32>"
      ]
     },
     "execution_count": 11,
     "metadata": {},
     "output_type": "execute_result"
    }
   ],
   "source": [
    "input_data = tf.placeholder(tf.int32, [batch_size, seq_length])# a 128x50\n",
    "input_data"
   ]
  },
  {
   "cell_type": "markdown",
   "metadata": {
    "button": false,
    "deletable": true,
    "new_sheet": false,
    "run_control": {
     "read_only": false
    }
   },
   "source": [
    "and target data, what we want to predict:"
   ]
  },
  {
   "cell_type": "code",
   "execution_count": 12,
   "metadata": {
    "button": false,
    "collapsed": false,
    "deletable": true,
    "new_sheet": false,
    "run_control": {
     "read_only": false
    }
   },
   "outputs": [
    {
     "data": {
      "text/plain": [
       "<tf.Tensor 'Placeholder_1:0' shape=(128, 50) dtype=int32>"
      ]
     },
     "execution_count": 12,
     "metadata": {},
     "output_type": "execute_result"
    }
   ],
   "source": [
    "targets = tf.placeholder(tf.int32, [batch_size, seq_length]) # a 128x50\n",
    "targets"
   ]
  },
  {
   "cell_type": "markdown",
   "metadata": {
    "button": false,
    "deletable": true,
    "new_sheet": false,
    "run_control": {
     "read_only": false
    }
   },
   "source": [
    "The memory state of the network is initialized with a vector of zeros and gets updated after reading each character.\n",
    "\n",
    "<b>BasicRNNCell.zero_state(batch_size, dtype)</b> Return zero-filled state tensor(s). In this function, batch_size\n",
    "representing the batch size."
   ]
  },
  {
   "cell_type": "code",
   "execution_count": 13,
   "metadata": {
    "button": false,
    "collapsed": false,
    "deletable": true,
    "new_sheet": false,
    "run_control": {
     "read_only": false
    }
   },
   "outputs": [
    {
     "data": {
      "text/plain": [
       "(<tf.Tensor 'MultiRNNCellZeroState/BasicRNNCellZeroState/zeros:0' shape=(128, 128) dtype=float32>,\n",
       " <tf.Tensor 'MultiRNNCellZeroState/BasicRNNCellZeroState_1/zeros:0' shape=(128, 128) dtype=float32>)"
      ]
     },
     "execution_count": 13,
     "metadata": {},
     "output_type": "execute_result"
    }
   ],
   "source": [
    "initial_state = stacked_cell.zero_state(batch_size, tf.float32) \n",
    "initial_state"
   ]
  },
  {
   "cell_type": "markdown",
   "metadata": {
    "button": false,
    "deletable": true,
    "new_sheet": false,
    "run_control": {
     "read_only": false
    }
   },
   "source": [
    "Lets check the value of the input_data again:"
   ]
  },
  {
   "cell_type": "code",
   "execution_count": 14,
   "metadata": {
    "button": false,
    "collapsed": false,
    "deletable": true,
    "new_sheet": false,
    "run_control": {
     "read_only": false
    }
   },
   "outputs": [
    {
     "data": {
      "text/plain": [
       "array([[49,  9,  7, ...,  1,  4,  7],\n",
       "       [39,  5,  3, ...,  0, 20,  9],\n",
       "       [ 0,  5,  9, ..., 19,  4, 13],\n",
       "       ...,\n",
       "       [ 3, 18, 18, ...,  1,  0, 23],\n",
       "       [ 7,  1, 23, ..., 18,  3,  7],\n",
       "       [47, 26, 24, ...,  0,  8,  3]], dtype=int32)"
      ]
     },
     "execution_count": 14,
     "metadata": {},
     "output_type": "execute_result"
    }
   ],
   "source": [
    "session = tf.Session(config=config)\n",
    "feed_dict={input_data:x, targets:y}\n",
    "session.run(input_data, feed_dict)"
   ]
  },
  {
   "cell_type": "markdown",
   "metadata": {
    "button": false,
    "deletable": true,
    "new_sheet": false,
    "run_control": {
     "read_only": false
    }
   },
   "source": [
    "<h3>4- Embedding</h3>\n",
    "<p>In this section, we build a 128-dim vector for each character. As we have 60 batches, and 50 character in each sequence, it will generate a [60,50,128] matrix.</p>\n",
    "\n",
    "<p><b>Notice:</b> The function <code>tf.get_variable()</code> is used to share a variable and to initialize it in one place. <code>tf.get_variable()</code> is used to get or create a variable instead of a direct call to <code>tf.Variable</code>.</p>"
   ]
  },
  {
   "cell_type": "code",
   "execution_count": 15,
   "metadata": {
    "button": false,
    "collapsed": true,
    "deletable": true,
    "new_sheet": false,
    "run_control": {
     "read_only": false
    }
   },
   "outputs": [],
   "source": [
    "with tf.variable_scope('rnnlm', reuse=False):\n",
    "    softmax_w = tf.get_variable(\"softmax_w\", [rnn_size, vocab_size]) #128x65\n",
    "    softmax_b = tf.get_variable(\"softmax_b\", [vocab_size]) # 1x65)\n",
    "    #with tf.device(\"/cpu:0\"):\n",
    "        \n",
    "    # embedding variable is initialized randomely\n",
    "    embedding = tf.get_variable(\"embedding\", [vocab_size, rnn_size])  #65x128\n",
    "\n",
    "    # embedding_lookup goes to each row of input_data, and for each character in the row, finds the correspond vector in embedding\n",
    "    # it creates a 60*50*[1*128] matrix\n",
    "    # so, the first elemnt of em, is a matrix of 50x128, which each row of it is vector representing that character\n",
    "    em = tf.nn.embedding_lookup(embedding, input_data) # em is 60x50x[1*128]\n",
    "    # split: Splits a tensor into sub tensors.\n",
    "    # syntax:  tf.split(split_dim, num_split, value, name='split')\n",
    "    # it will split the 60x50x[1x128] matrix into 50 matrix of 60x[1*128]\n",
    "    inputs = tf.split(em, seq_length, 1)\n",
    "    # It will convert the list to 50 matrix of [60x128]\n",
    "    inputs = [tf.squeeze(input_, [1]) for input_ in inputs]"
   ]
  },
  {
   "cell_type": "markdown",
   "metadata": {
    "button": false,
    "deletable": true,
    "new_sheet": false,
    "run_control": {
     "read_only": false
    }
   },
   "source": [
    "Lets take a look at the <b>embedding</b>, <b>em</b>, and <b>inputs</b> variables:\n",
    "\n",
    "Embedding variable is initialized with random values:"
   ]
  },
  {
   "cell_type": "code",
   "execution_count": 16,
   "metadata": {
    "button": false,
    "collapsed": false,
    "deletable": true,
    "new_sheet": false,
    "run_control": {
     "read_only": false
    }
   },
   "outputs": [
    {
     "name": "stdout",
     "output_type": "stream",
     "text": [
      "(65, 128)\n"
     ]
    },
    {
     "data": {
      "text/plain": [
       "array([[ 0.05005839, -0.164846  , -0.16913219, ..., -0.08180564,\n",
       "        -0.16002409, -0.06438529],\n",
       "       [ 0.11869372,  0.08183123,  0.03263192, ...,  0.03091742,\n",
       "        -0.05609655,  0.01552239],\n",
       "       [ 0.12159596, -0.13446099,  0.02099597, ..., -0.13576134,\n",
       "         0.01912594,  0.00428034],\n",
       "       ...,\n",
       "       [ 0.17111565,  0.01509239,  0.12681688, ..., -0.17224978,\n",
       "         0.1442327 ,  0.04335518],\n",
       "       [ 0.1403156 ,  0.15923165, -0.11274803, ..., -0.12823835,\n",
       "        -0.01049021, -0.17008165],\n",
       "       [-0.09553652, -0.05007601,  0.14189292, ...,  0.17273657,\n",
       "        -0.10281775,  0.15545963]], dtype=float32)"
      ]
     },
     "execution_count": 16,
     "metadata": {},
     "output_type": "execute_result"
    }
   ],
   "source": [
    "session.run(tf.global_variables_initializer())\n",
    "print(embedding.shape)\n",
    "session.run(embedding)"
   ]
  },
  {
   "cell_type": "markdown",
   "metadata": {
    "button": false,
    "deletable": true,
    "new_sheet": false,
    "run_control": {
     "read_only": false
    }
   },
   "source": [
    "The first elemnt of em, is a matrix of 50x128, which each row of it is vector representing that character"
   ]
  },
  {
   "cell_type": "code",
   "execution_count": 17,
   "metadata": {
    "button": false,
    "collapsed": false,
    "deletable": true,
    "new_sheet": false,
    "run_control": {
     "read_only": false
    }
   },
   "outputs": [
    {
     "name": "stdout",
     "output_type": "stream",
     "text": [
      "(128, 50, 128)\n"
     ]
    },
    {
     "data": {
      "text/plain": [
       "array([[-0.08286973,  0.07669862,  0.15940739, ...,  0.10282247,\n",
       "         0.0113368 ,  0.0987732 ],\n",
       "       [-0.12599492, -0.10932873, -0.06541151, ...,  0.17094286,\n",
       "        -0.05113523, -0.12873274],\n",
       "       [ 0.06598549,  0.05864687, -0.14084536, ...,  0.11818643,\n",
       "        -0.02560635,  0.01063658],\n",
       "       ...,\n",
       "       [ 0.11869372,  0.08183123,  0.03263192, ...,  0.03091742,\n",
       "        -0.05609655,  0.01552239],\n",
       "       [ 0.1372476 ,  0.14193551,  0.08144091, ...,  0.05013087,\n",
       "        -0.11449724, -0.1068764 ],\n",
       "       [ 0.06598549,  0.05864687, -0.14084536, ...,  0.11818643,\n",
       "        -0.02560635,  0.01063658]], dtype=float32)"
      ]
     },
     "execution_count": 17,
     "metadata": {},
     "output_type": "execute_result"
    }
   ],
   "source": [
    "em = tf.nn.embedding_lookup(embedding, input_data)\n",
    "emp = session.run(em,feed_dict={input_data:x})\n",
    "print (emp.shape)\n",
    "emp[0]"
   ]
  },
  {
   "cell_type": "markdown",
   "metadata": {
    "button": false,
    "deletable": true,
    "new_sheet": false,
    "run_control": {
     "read_only": false
    }
   },
   "source": [
    "<p>Let's consider each sequence as a sentence of length 50 characters, then, the first item in <b>inputs</b> is a [60x128] vector which represents the first characters of 60 sentences.</p>"
   ]
  },
  {
   "cell_type": "code",
   "execution_count": 18,
   "metadata": {
    "button": false,
    "collapsed": false,
    "deletable": true,
    "new_sheet": false,
    "run_control": {
     "read_only": false
    }
   },
   "outputs": [
    {
     "data": {
      "text/plain": [
       "[<tf.Tensor 'Squeeze:0' shape=(128, 128) dtype=float32>,\n",
       " <tf.Tensor 'Squeeze_1:0' shape=(128, 128) dtype=float32>,\n",
       " <tf.Tensor 'Squeeze_2:0' shape=(128, 128) dtype=float32>,\n",
       " <tf.Tensor 'Squeeze_3:0' shape=(128, 128) dtype=float32>,\n",
       " <tf.Tensor 'Squeeze_4:0' shape=(128, 128) dtype=float32>]"
      ]
     },
     "execution_count": 18,
     "metadata": {},
     "output_type": "execute_result"
    }
   ],
   "source": [
    "inputs = tf.split(em, seq_length, 1)\n",
    "inputs = [tf.squeeze(input_, [1]) for input_ in inputs]\n",
    "inputs[0:5]"
   ]
  },
  {
   "cell_type": "markdown",
   "metadata": {
    "button": false,
    "deletable": true,
    "new_sheet": false,
    "run_control": {
     "read_only": false
    }
   },
   "source": [
    "<h3>5- Feeding a batch of 50 sequence to a RNN:</h3>\n",
    "\n",
    "The feeding process for inputs is as following:\n",
    "<ul>\n",
    "    <li>Step 1: first character of each of the 50 sentences (in a batch) is entered in parallel.</li>  \n",
    "    <li>Step 2: second character of each of the 50 sentences is input in parallel.</li> \n",
    "    <li>Step n: nth character of each of the 50 sentences is input in parallel.</li>  \n",
    "</ul>\n",
    "<p>The parallelism is only for efficiency. Each character in a batch is handled in parallel, but the network sees one character of a sequence at a time and does the computations accordingly. All the computations involving the characters of all sequences in a batch at a given time step are done in parallel.</p>"
   ]
  },
  {
   "cell_type": "code",
   "execution_count": 19,
   "metadata": {
    "button": false,
    "collapsed": false,
    "deletable": true,
    "new_sheet": false,
    "run_control": {
     "read_only": false
    }
   },
   "outputs": [
    {
     "data": {
      "text/plain": [
       "array([[-0.08286973,  0.07669862,  0.15940739, ...,  0.10282247,\n",
       "         0.0113368 ,  0.0987732 ],\n",
       "       [-0.02708288,  0.16456051, -0.1447902 , ..., -0.01288046,\n",
       "         0.06417258,  0.00543427],\n",
       "       [ 0.05005839, -0.164846  , -0.16913219, ..., -0.08180564,\n",
       "        -0.16002409, -0.06438529],\n",
       "       ...,\n",
       "       [ 0.09600924, -0.09898961,  0.05661878, ...,  0.10019554,\n",
       "        -0.15097249, -0.17539325],\n",
       "       [ 0.06598549,  0.05864687, -0.14084536, ...,  0.11818643,\n",
       "        -0.02560635,  0.01063658],\n",
       "       [-0.00129883, -0.03466825, -0.09904535, ...,  0.11556698,\n",
       "        -0.06265313,  0.07262371]], dtype=float32)"
      ]
     },
     "execution_count": 19,
     "metadata": {},
     "output_type": "execute_result"
    }
   ],
   "source": [
    "session.run(inputs[0],feed_dict={input_data:x})"
   ]
  },
  {
   "cell_type": "markdown",
   "metadata": {
    "button": false,
    "deletable": true,
    "new_sheet": false,
    "run_control": {
     "read_only": false
    }
   },
   "source": [
    "Feeding the RNN with one batch, we can check the new output and new state of network:"
   ]
  },
  {
   "cell_type": "code",
   "execution_count": 20,
   "metadata": {
    "button": false,
    "collapsed": false,
    "deletable": true,
    "new_sheet": false,
    "run_control": {
     "read_only": false
    }
   },
   "outputs": [
    {
     "data": {
      "text/plain": [
       "(<tf.Tensor 'rnnlm_1/rnnlm/multi_rnn_cell/cell_0/basic_rnn_cell/Tanh_98:0' shape=(128, 128) dtype=float32>,\n",
       " <tf.Tensor 'rnnlm_1/rnnlm/multi_rnn_cell/cell_0/basic_rnn_cell/Tanh_99:0' shape=(128, 128) dtype=float32>)"
      ]
     },
     "execution_count": 20,
     "metadata": {},
     "output_type": "execute_result"
    }
   ],
   "source": [
    "#outputs is 50x[60*128]\n",
    "outputs, new_state = tf.contrib.legacy_seq2seq.rnn_decoder(inputs, initial_state, stacked_cell, loop_function=None, scope='rnnlm')\n",
    "new_state"
   ]
  },
  {
   "cell_type": "code",
   "execution_count": 21,
   "metadata": {
    "button": false,
    "collapsed": false,
    "deletable": true,
    "new_sheet": false,
    "run_control": {
     "read_only": false
    }
   },
   "outputs": [
    {
     "data": {
      "text/plain": [
       "[<tf.Tensor 'rnnlm_1/rnnlm/multi_rnn_cell/cell_0/basic_rnn_cell/Tanh_1:0' shape=(128, 128) dtype=float32>,\n",
       " <tf.Tensor 'rnnlm_1/rnnlm/multi_rnn_cell/cell_0/basic_rnn_cell/Tanh_3:0' shape=(128, 128) dtype=float32>,\n",
       " <tf.Tensor 'rnnlm_1/rnnlm/multi_rnn_cell/cell_0/basic_rnn_cell/Tanh_5:0' shape=(128, 128) dtype=float32>,\n",
       " <tf.Tensor 'rnnlm_1/rnnlm/multi_rnn_cell/cell_0/basic_rnn_cell/Tanh_7:0' shape=(128, 128) dtype=float32>,\n",
       " <tf.Tensor 'rnnlm_1/rnnlm/multi_rnn_cell/cell_0/basic_rnn_cell/Tanh_9:0' shape=(128, 128) dtype=float32>]"
      ]
     },
     "execution_count": 21,
     "metadata": {},
     "output_type": "execute_result"
    }
   ],
   "source": [
    "outputs[0:5]"
   ]
  },
  {
   "cell_type": "markdown",
   "metadata": {
    "button": false,
    "deletable": true,
    "new_sheet": false,
    "run_control": {
     "read_only": false
    }
   },
   "source": [
    "Let's check the output of network after feeding it with first batch:"
   ]
  },
  {
   "cell_type": "code",
   "execution_count": 22,
   "metadata": {
    "button": false,
    "collapsed": false,
    "deletable": true,
    "new_sheet": false,
    "run_control": {
     "read_only": false
    }
   },
   "outputs": [
    {
     "data": {
      "text/plain": [
       "array([[ 0.01889511, -0.01135159,  0.11907647, ..., -0.04444603,\n",
       "         0.04391498,  0.0038373 ],\n",
       "       [ 0.05204726, -0.0875124 ,  0.00135571, ...,  0.06589209,\n",
       "         0.03815315,  0.04973407],\n",
       "       [ 0.02815058,  0.00435396, -0.11997713, ...,  0.09993885,\n",
       "         0.07109024, -0.04996781],\n",
       "       ...,\n",
       "       [-0.05852821,  0.11413842, -0.06913213, ..., -0.00244813,\n",
       "         0.02788062, -0.1138159 ],\n",
       "       [-0.03159584,  0.05121949,  0.07297759, ..., -0.08107258,\n",
       "         0.08940622, -0.01064056],\n",
       "       [-0.04049902, -0.06310745,  0.14767714, ...,  0.01706438,\n",
       "        -0.11151629,  0.12343413]], dtype=float32)"
      ]
     },
     "execution_count": 22,
     "metadata": {},
     "output_type": "execute_result"
    }
   ],
   "source": [
    "first_output = outputs[0]\n",
    "session.run(tf.global_variables_initializer())\n",
    "session.run(first_output,feed_dict={input_data:x})"
   ]
  },
  {
   "cell_type": "markdown",
   "metadata": {
    "button": false,
    "deletable": true,
    "new_sheet": false,
    "run_control": {
     "read_only": false
    }
   },
   "source": [
    "<p>As it was explained, <b>outputs</b> variable is a 50x[60x128] tensor. We need to reshape it back to [60x50x128] to be able to calculate the probablity of the next character using the softmax. The <b>softmax_w</b> shape is [rnn_size, vocab_size], which is [128x65] in our case. Therefore, we have a fully connected layer on top of LSTM cells, which help us to decode the next charachter. We can use the <b>softmax(output * softmax_w + softmax_b)</b> for this purpose. The shape of the matrixis would be:</p>\n",
    "\n",
    "softmax([60x50x128]x[128x65]+[1x65]) = [60x50x65]"
   ]
  },
  {
   "cell_type": "markdown",
   "metadata": {
    "button": false,
    "deletable": true,
    "new_sheet": false,
    "run_control": {
     "read_only": false
    }
   },
   "source": [
    "We can do it step-by-step:"
   ]
  },
  {
   "cell_type": "code",
   "execution_count": 23,
   "metadata": {
    "button": false,
    "collapsed": false,
    "deletable": true,
    "new_sheet": false,
    "run_control": {
     "read_only": false
    }
   },
   "outputs": [
    {
     "data": {
      "text/plain": [
       "<tf.Tensor 'Reshape:0' shape=(6400, 128) dtype=float32>"
      ]
     },
     "execution_count": 23,
     "metadata": {},
     "output_type": "execute_result"
    }
   ],
   "source": [
    "output = tf.reshape(tf.concat( outputs,1), [-1, rnn_size])\n",
    "output"
   ]
  },
  {
   "cell_type": "code",
   "execution_count": 24,
   "metadata": {
    "button": false,
    "collapsed": false,
    "deletable": true,
    "new_sheet": false,
    "run_control": {
     "read_only": false
    }
   },
   "outputs": [
    {
     "data": {
      "text/plain": [
       "<tf.Tensor 'add:0' shape=(6400, 65) dtype=float32>"
      ]
     },
     "execution_count": 24,
     "metadata": {},
     "output_type": "execute_result"
    }
   ],
   "source": [
    "logits = tf.matmul(output, softmax_w) + softmax_b\n",
    "logits"
   ]
  },
  {
   "cell_type": "code",
   "execution_count": 25,
   "metadata": {
    "button": false,
    "collapsed": false,
    "deletable": true,
    "new_sheet": false,
    "run_control": {
     "read_only": false
    }
   },
   "outputs": [
    {
     "data": {
      "text/plain": [
       "<tf.Tensor 'Softmax:0' shape=(6400, 65) dtype=float32>"
      ]
     },
     "execution_count": 25,
     "metadata": {},
     "output_type": "execute_result"
    }
   ],
   "source": [
    "probs = tf.nn.softmax(logits)\n",
    "probs"
   ]
  },
  {
   "cell_type": "markdown",
   "metadata": {
    "button": false,
    "deletable": true,
    "new_sheet": false,
    "run_control": {
     "read_only": false
    }
   },
   "source": [
    "Here is the probablity of the next chracter in all batches:"
   ]
  },
  {
   "cell_type": "code",
   "execution_count": 26,
   "metadata": {
    "button": false,
    "collapsed": false,
    "deletable": true,
    "new_sheet": false,
    "run_control": {
     "read_only": false
    }
   },
   "outputs": [
    {
     "data": {
      "text/plain": [
       "array([[0.0166996 , 0.01772449, 0.01660083, ..., 0.01410264, 0.01730376,\n",
       "        0.01349106],\n",
       "       [0.01616266, 0.01351571, 0.01517673, ..., 0.01243294, 0.0188073 ,\n",
       "        0.01269872],\n",
       "       [0.01532092, 0.01600143, 0.01836681, ..., 0.01114   , 0.0149603 ,\n",
       "        0.01475507],\n",
       "       ...,\n",
       "       [0.01424962, 0.01346246, 0.0168163 , ..., 0.01279302, 0.01738641,\n",
       "        0.01138778],\n",
       "       [0.01134322, 0.01573297, 0.01598359, ..., 0.01128589, 0.01935188,\n",
       "        0.01337521],\n",
       "       [0.01627343, 0.01807679, 0.01650165, ..., 0.01309246, 0.02001806,\n",
       "        0.01173284]], dtype=float32)"
      ]
     },
     "execution_count": 26,
     "metadata": {},
     "output_type": "execute_result"
    }
   ],
   "source": [
    "session.run(tf.global_variables_initializer())\n",
    "session.run(probs,feed_dict={input_data:x})"
   ]
  },
  {
   "cell_type": "markdown",
   "metadata": {
    "button": false,
    "deletable": true,
    "new_sheet": false,
    "run_control": {
     "read_only": false
    }
   },
   "source": [
    "Now, we are in the position to calculate the cost of training with <b>loss function</b>, and keep feeding the network to learn it. But, the question is: what does the LSTM networks learn?"
   ]
  },
  {
   "cell_type": "code",
   "execution_count": 27,
   "metadata": {
    "button": false,
    "collapsed": false,
    "deletable": true,
    "new_sheet": false,
    "run_control": {
     "read_only": false
    }
   },
   "outputs": [
    {
     "data": {
      "text/plain": [
       "[<tf.Variable 'rnnlm/softmax_w:0' shape=(128, 65) dtype=float32_ref>,\n",
       " <tf.Variable 'rnnlm/softmax_b:0' shape=(65,) dtype=float32_ref>,\n",
       " <tf.Variable 'rnnlm/embedding:0' shape=(65, 128) dtype=float32_ref>,\n",
       " <tf.Variable 'rnnlm/multi_rnn_cell/cell_0/basic_rnn_cell/kernel:0' shape=(256, 128) dtype=float32_ref>,\n",
       " <tf.Variable 'rnnlm/multi_rnn_cell/cell_0/basic_rnn_cell/bias:0' shape=(128,) dtype=float32_ref>]"
      ]
     },
     "execution_count": 27,
     "metadata": {},
     "output_type": "execute_result"
    }
   ],
   "source": [
    "grad_clip =5.\n",
    "tvars = tf.trainable_variables()\n",
    "tvars"
   ]
  },
  {
   "cell_type": "markdown",
   "metadata": {
    "button": false,
    "deletable": true,
    "new_sheet": false,
    "run_control": {
     "read_only": false
    }
   },
   "source": [
    "Okay, by now, you should understand enough about each component of a LSTM network to be able to train it, and predict the next word. "
   ]
  },
  {
   "cell_type": "markdown",
   "metadata": {
    "button": false,
    "deletable": true,
    "new_sheet": false,
    "run_control": {
     "read_only": false
    }
   },
   "source": [
    "<h2>All together</h2>\n",
    "Now, let's put all of parts together in a class, and train the model:"
   ]
  },
  {
   "cell_type": "code",
   "execution_count": 28,
   "metadata": {
    "button": false,
    "collapsed": true,
    "deletable": true,
    "new_sheet": false,
    "run_control": {
     "read_only": false
    }
   },
   "outputs": [],
   "source": [
    "class LSTMModel():\n",
    "    def __init__(self,sample=False, device='/cpu:0'):\n",
    "        rnn_size = 128 # size of RNN hidden state vector\n",
    "        batch_size = 128 # minibatch size, i.e. size of dataset in each epoch\n",
    "        seq_length = 50 # RNN sequence length\n",
    "        num_layers = 2 # number of layers in the RNN\n",
    "        vocab_size = 65\n",
    "        grad_clip = 5.\n",
    "        if sample:\n",
    "            batch_size = 1\n",
    "            seq_length = 1\n",
    "        with tf.device(device):\n",
    "            # The core of the model consists of an LSTM cell that processes one char at a time and computes probabilities of the possible continuations of the char. \n",
    "            basic_cell = tf.contrib.rnn.BasicRNNCell(rnn_size)\n",
    "            # model.cell.state_size is (128, 128)\n",
    "            self.stacked_cell = tf.contrib.rnn.MultiRNNCell([basic_cell] * num_layers)\n",
    "\n",
    "            self.input_data = tf.placeholder(tf.int32, [batch_size, seq_length], name=\"input_data\")\n",
    "            self.targets = tf.placeholder(tf.int32, [batch_size, seq_length], name=\"targets\")\n",
    "            # Initial state of the LSTM memory.\n",
    "            # The memory state of the network is initialized with a vector of zeros and gets updated after reading each char. \n",
    "            self.initial_state = stacked_cell.zero_state(batch_size, tf.float32) #why batch_size\n",
    "\n",
    "            with tf.variable_scope('rnnlm_class1'):\n",
    "                softmax_w = tf.get_variable(\"softmax_w\", [rnn_size, vocab_size]) #128x65\n",
    "                softmax_b = tf.get_variable(\"softmax_b\", [vocab_size]) # 1x65\n",
    "                embedding = tf.get_variable(\"embedding\", [vocab_size, rnn_size])  #65x128\n",
    "                inputs = tf.split(tf.nn.embedding_lookup(embedding, self.input_data), seq_length, 1)\n",
    "                inputs = [tf.squeeze(input_, [1]) for input_ in inputs] \n",
    "\n",
    "            # The value of state is updated after processing each batch of chars.\n",
    "            outputs, last_state = tf.contrib.legacy_seq2seq.rnn_decoder(inputs, self.initial_state, self.stacked_cell, loop_function=None, scope='rnnlm_class1')\n",
    "            output = tf.reshape(tf.concat(outputs,1), [-1, rnn_size])\n",
    "            self.logits = tf.matmul(output, softmax_w) + softmax_b\n",
    "            self.probs = tf.nn.softmax(self.logits)\n",
    "            loss = tf.contrib.legacy_seq2seq.sequence_loss_by_example([self.logits],\n",
    "                    [tf.reshape(self.targets, [-1])],\n",
    "                    [tf.ones([batch_size * seq_length])],\n",
    "                    vocab_size)\n",
    "            self.cost = tf.reduce_sum(loss) / batch_size / seq_length\n",
    "            self.final_state = last_state\n",
    "            self.lr = tf.Variable(0.0, trainable=False)\n",
    "            tvars = tf.trainable_variables()\n",
    "            grads, _ = tf.clip_by_global_norm(tf.gradients(self.cost, tvars),grad_clip)\n",
    "            optimizer = tf.train.AdamOptimizer(self.lr)\n",
    "            self.train_op = optimizer.apply_gradients(zip(grads, tvars))\n",
    "\n",
    "    \n",
    "    def sample(self, sess, chars, vocab, num=200, prime='The ', sampling_type=1):\n",
    "        state = sess.run(self.stacked_cell.zero_state(1, tf.float32))\n",
    "        #print state\n",
    "        for char in prime[:-1]:\n",
    "            x = np.zeros((1, 1))\n",
    "            x[0, 0] = vocab[char]\n",
    "            feed = {self.input_data: x, self.initial_state:state}\n",
    "            [state] = sess.run([self.final_state], feed)\n",
    "\n",
    "        def weighted_pick(weights):\n",
    "            t = np.cumsum(weights)\n",
    "            s = np.sum(weights)\n",
    "            return(int(np.searchsorted(t, np.random.rand(1)*s)))\n",
    "\n",
    "        ret = prime\n",
    "        char = prime[-1]\n",
    "        for n in range(num):\n",
    "            x = np.zeros((1, 1))\n",
    "            x[0, 0] = vocab[char]\n",
    "            feed = {self.input_data: x, self.initial_state:state}\n",
    "            [probs, state] = sess.run([self.probs, self.final_state], feed)\n",
    "            p = probs[0]\n",
    "\n",
    "            if sampling_type == 0:\n",
    "                sample = np.argmax(p)\n",
    "            elif sampling_type == 2:\n",
    "                if char == ' ':\n",
    "                    sample = weighted_pick(p)\n",
    "                else:\n",
    "                    sample = np.argmax(p)\n",
    "            else: # sampling_type == 1 default:\n",
    "                sample = weighted_pick(p)\n",
    "\n",
    "            pred = chars[sample]\n",
    "            ret += pred\n",
    "            char = pred\n",
    "        return ret"
   ]
  },
  {
   "cell_type": "markdown",
   "metadata": {
    "button": false,
    "deletable": true,
    "new_sheet": false,
    "run_control": {
     "read_only": false
    }
   },
   "source": [
    "<a id=\"cpu_vs_gpu\"></a>\n",
    "<h2>Train your model using CPU and GPU</h2>\n",
    "We can train our model through feeding batches. You should be able to complete the following cells and submit it for review."
   ]
  },
  {
   "cell_type": "markdown",
   "metadata": {
    "button": false,
    "deletable": true,
    "new_sheet": false,
    "run_control": {
     "read_only": false
    }
   },
   "source": [
    "<a id=\"question_1\"></a>\n",
    "<h2>Question 1: Complete the code to run it on CPU</h2>"
   ]
  },
  {
   "cell_type": "code",
   "execution_count": 29,
   "metadata": {
    "button": false,
    "collapsed": false,
    "deletable": true,
    "new_sheet": false,
    "run_control": {
     "read_only": false
    }
   },
   "outputs": [
    {
     "name": "stdout",
     "output_type": "stream",
     "text": [
      "173/8700 (epoch 0), train_loss = 2.066, time/batch = 0.133\n",
      "----------------------------------\n",
      "SAMPLE GENERATED TEXT:\n",
      "The Mentus--Sund for wheet\n",
      "You a elill tu blow thow thee the fread Thou!\n",
      "Then:\n",
      "Noors\n",
      "\n",
      "fulJ erof and stuem;\n",
      "Conley,\n",
      "We tiriun. and to londst reconnst? the \n",
      "----------------------------------\n",
      "347/8700 (epoch 1), train_loss = 1.862, time/batch = 0.135\n",
      "----------------------------------\n",
      "SAMPLE GENERATED TEXT:\n",
      "The cale to to mokedy and all moren.\n",
      "\n",
      "BRINCE:\n",
      "Ald my our uther it him groat revousines.\n",
      "\n",
      "KING EDIUS:\n",
      "I will dimane this suldegy?\n",
      "\n",
      "GLUCET:\n",
      "In, porke lit th\n",
      "----------------------------------\n",
      "521/8700 (epoch 2), train_loss = 1.761, time/batch = 0.123\n",
      "----------------------------------\n",
      "SAMPLE GENERATED TEXT:\n",
      "The with with to to me?\n",
      "A blo?\n",
      "\n",
      "Sersated so have Bundot,.\n",
      "Deke them reas he ilforty?\n",
      "No..\n",
      "\n",
      "CERIXLEO:\n",
      "Not greateaut thus; much urpy to seefins\n",
      "Anclead, Cod\n",
      "----------------------------------\n",
      "695/8700 (epoch 3), train_loss = 1.700, time/batch = 0.160\n",
      "----------------------------------\n",
      "SAMPLE GENERATED TEXT:\n",
      "The the noble be iton mour like,\n",
      "That makes at a sool's'd; my lrother up the basted, in the ount it ant, and is for apon, you min!\n",
      "Bircal ay reprecelies, \n",
      "----------------------------------\n",
      "869/8700 (epoch 4), train_loss = 1.660, time/batch = 0.139\n",
      "----------------------------------\n",
      "SAMPLE GENERATED TEXT:\n",
      "The fight the barthe with the kin; these and hersouster, if the sungel, as I Katurty,\n",
      "Bo hon,\n",
      "Caupor For quan wear of Bupareries Ale:\n",
      "Then shall not; for \n",
      "----------------------------------\n",
      "1043/8700 (epoch 5), train_loss = 1.632, time/batch = 0.156\n",
      "----------------------------------\n",
      "SAMPLE GENERATED TEXT:\n",
      "The toor spuch w-apon.\n",
      "She\n",
      "well my lord; fantony word make not: it shall not daughs vieland, arrow thy disceal. Lodker Romer:\n",
      "Neast, I must pensens of clo\n",
      "----------------------------------\n",
      "1217/8700 (epoch 6), train_loss = 1.611, time/batch = 0.138\n",
      "----------------------------------\n",
      "SAMPLE GENERATED TEXT:\n",
      "The tendious this grapifs\n",
      "Beforeth that taster's sonfurtest,\n",
      "Which up this, unours, knier'd, of son and, my loved, many am they, it enter\n",
      "ane is now, wher\n",
      "----------------------------------\n",
      "1391/8700 (epoch 7), train_loss = 1.593, time/batch = 0.137\n",
      "----------------------------------\n",
      "SAMPLE GENERATED TEXT:\n",
      "The mock, the every'p, it would I have holy like me honour: on my vaultings of yours up.\n",
      "\n",
      "RIENO:\n",
      "Blood bow drown, sick, my lord; a duke as on\n",
      "How?\n",
      "\n",
      "COMINI\n",
      "----------------------------------\n",
      "1565/8700 (epoch 8), train_loss = 1.579, time/batch = 0.164\n",
      "----------------------------------\n",
      "SAMPLE GENERATED TEXT:\n",
      "The grace the streast mast, Servingo of brother's live.\n",
      "\n",
      "HOMI:\n",
      "I think of the labburd.\n",
      "\n",
      "BENVOLIO:\n",
      "Uving upon eet the worshave:\n",
      "Is do the own comply honed,\n",
      "----------------------------------\n",
      "1739/8700 (epoch 9), train_loss = 1.566, time/batch = 0.132\n",
      "----------------------------------\n",
      "SAMPLE GENERATED TEXT:\n",
      "The neetle self Musticaty.\n",
      "What, soat yept the away?\n",
      "This suld earnain.\n",
      "\n",
      "ROFITAR:\n",
      "Be the vio lost counsitiousperce him me word, good leave you.\n",
      "\n",
      "LUCCITIA:\n",
      "----------------------------------\n",
      "1913/8700 (epoch 10), train_loss = 1.555, time/batch = 0.134\n",
      "----------------------------------\n",
      "SAMPLE GENERATED TEXT:\n",
      "The coubted as-Horse.\n",
      "\n",
      "KING RICHARD III:\n",
      "For unscumiry in him to stay you; I shore the humper:\n",
      "That; what is an gift on how he caugnt's gentleminither the\n",
      "----------------------------------\n",
      "2087/8700 (epoch 11), train_loss = 1.547, time/batch = 0.160\n",
      "----------------------------------\n",
      "SAMPLE GENERATED TEXT:\n",
      "The good master his naminess to find lowind 'mughson conset it remondon, but known flongied;\n",
      "Agaused me post Jock,\n",
      "In is not.\n",
      "\n",
      "GREMIO:\n",
      "\n",
      "JULIET:\n",
      "Go alself \n",
      "----------------------------------\n",
      "2261/8700 (epoch 12), train_loss = 1.539, time/batch = 0.152\n",
      "----------------------------------\n",
      "SAMPLE GENERATED TEXT:\n",
      "The land no mark'st you food life;\n",
      "I had's lights,\n",
      "My ladden sen with one ressea foulther upon sheakly parturn?\n",
      "\n",
      "CLARENCE:\n",
      "Did to the honsent\n",
      "His bust!\n",
      "Ty\n",
      "----------------------------------\n",
      "2435/8700 (epoch 13), train_loss = 1.533, time/batch = 0.122\n",
      "----------------------------------\n",
      "SAMPLE GENERATED TEXT:\n",
      "The house, being she you, let yield stual be senary to ofter,\n",
      "Wem make affected upon a\n",
      "doors.\n",
      "Whyes, you may about old spirence with this away,\n",
      "Untis jusc\n",
      "----------------------------------\n",
      "2609/8700 (epoch 14), train_loss = 1.527, time/batch = 0.137\n",
      "----------------------------------\n",
      "SAMPLE GENERATED TEXT:\n",
      "The praison the peace,\n",
      "Musting,---\n",
      "Would, when yet as my purpiete\n",
      "The four here is trick more my could I dew away you are of a feals hand.\n",
      "\n",
      "CORIOLAND:\n",
      "By \n",
      "----------------------------------\n",
      "2783/8700 (epoch 15), train_loss = 1.522, time/batch = 0.159\n",
      "----------------------------------\n",
      "SAMPLE GENERATED TEXT:\n",
      "The little fainted frolly.\n",
      "\n",
      "SAMPSOR:\n",
      "Is he to thron to farth, we grant's what desued, it erieft.\n",
      "Speak to this foulless which is sughty, by our caficors. \n",
      "----------------------------------\n",
      "2957/8700 (epoch 16), train_loss = 1.518, time/batch = 0.131\n",
      "----------------------------------\n",
      "SAMPLE GENERATED TEXT:\n",
      "The guilt.\n",
      "\n",
      "DUKE VINCENTIO:\n",
      "And I canishvy Was along herefore, and shame gage,\n",
      "To see thy long; whose or our fanten'd man he,\n",
      "Of you so.\n",
      "\n",
      "PROLIO:\n",
      "Where kn\n",
      "----------------------------------\n",
      "3131/8700 (epoch 17), train_loss = 1.513, time/batch = 0.140\n",
      "----------------------------------\n",
      "SAMPLE GENERATED TEXT:\n",
      "The false but prich achound foul aight.\n",
      "\n",
      "GONZALO:\n",
      "Who more's bow is son,\n",
      "Wherelanished he wilts you. Hence light:\n",
      "I partly, as you inself.\n",
      "\n",
      "ISABELLA:\n",
      "O, s\n",
      "----------------------------------\n",
      "3305/8700 (epoch 18), train_loss = 1.509, time/batch = 0.132\n",
      "----------------------------------\n",
      "SAMPLE GENERATED TEXT:\n",
      "The kindroum should be much fears;\n",
      "For then with make my happiiant,\n",
      "My natuares to hate,\n",
      "Unand with him but we than worshined or shall I shall in call you\n",
      "----------------------------------\n",
      "3479/8700 (epoch 19), train_loss = 1.505, time/batch = 0.146\n",
      "----------------------------------\n",
      "SAMPLE GENERATED TEXT:\n",
      "The shall sovere me wilt which after shall the hermina I will place.\n",
      "\n",
      "CLARENCE:\n",
      "How to her ever'd, that, no cooller, hence thou dight\n",
      "To rather gave forge\n",
      "----------------------------------\n",
      "3653/8700 (epoch 20), train_loss = 1.501, time/batch = 0.160\n",
      "----------------------------------\n",
      "SAMPLE GENERATED TEXT:\n",
      "The bounting; content of my carence arm, the our will this will bids not send, I spept winl's nothing!\n",
      "\n",
      "YORK:\n",
      "Anaves it.\n",
      "\n",
      "KING RICHARD III:\n",
      "Sound that tho\n",
      "----------------------------------\n",
      "3827/8700 (epoch 21), train_loss = 1.498, time/batch = 0.129\n",
      "----------------------------------\n",
      "SAMPLE GENERATED TEXT:\n",
      "The coarch and heard twentory you be, sayation I do come thou'rt he should plain me, but to thus from their werr:\n",
      "Then I will not thouss be it to my serve\n",
      "----------------------------------\n",
      "4001/8700 (epoch 22), train_loss = 1.494, time/batch = 0.142\n",
      "----------------------------------\n",
      "SAMPLE GENERATED TEXT:\n",
      "The prepil's bleed of thet were the airy whither;\n",
      "He stiol.\n",
      "\n",
      "RETESBBO:\n",
      "My servant.\n",
      "\n",
      "HENRY BOTNANUS:\n",
      "I do how help a direlly anoth?\n",
      "God nament appose: sir,\n",
      "----------------------------------\n",
      "4175/8700 (epoch 23), train_loss = 1.491, time/batch = 0.150\n",
      "----------------------------------\n",
      "SAMPLE GENERATED TEXT:\n",
      "The will but that thoughtsolorn:\n",
      "That turth blese profisted?\n",
      "\n",
      "WARW:\n",
      "That's a low youth husbald a Clarence the eash,\n",
      "The king:\n",
      "He wild'd your amish vire, t\n",
      "----------------------------------\n",
      "4349/8700 (epoch 24), train_loss = 1.489, time/batch = 0.131\n",
      "----------------------------------\n",
      "SAMPLE GENERATED TEXT:\n",
      "The landurt not as grank, as Canning betterness him thy laying a chan.\n",
      "The greaters\n",
      "The thou teston-for the king he fier:\n",
      "Have you that thou cut for my do\n",
      "----------------------------------\n",
      "4523/8700 (epoch 25), train_loss = 1.486, time/batch = 0.168\n",
      "----------------------------------\n",
      "SAMPLE GENERATED TEXT:\n",
      "The razies, be Doing and king by you!\n",
      "\n",
      "Servancasmaticked with my deight,\n",
      "With the violent will are perpemies,\n",
      "In with thy stoles ask in it no mark.\n",
      "Hath b\n",
      "----------------------------------\n",
      "4697/8700 (epoch 26), train_loss = 1.484, time/batch = 0.140\n",
      "----------------------------------\n",
      "SAMPLE GENERATED TEXT:\n",
      "The vire! Was\n",
      "Alther witholy buish\n",
      "Sainted, cannot with kind.\n",
      "\n",
      "LADY GREY:\n",
      "Ay, I earble Edward, as you have did neckmys with is o' Sisunce beds the\n",
      "blessel\n",
      "----------------------------------\n",
      "4871/8700 (epoch 27), train_loss = 1.481, time/batch = 0.167\n",
      "----------------------------------\n",
      "SAMPLE GENERATED TEXT:\n",
      "The olker, hear the rudh sweet; by a rot this ary presenher's sooned,\n",
      "My sword! O, Bolin nimer,\n",
      "Woe. srine to Comer:\n",
      "Then, such her.\n",
      "\n",
      "SOMERLE:\n",
      "Griel abook\n",
      "----------------------------------\n",
      "5045/8700 (epoch 28), train_loss = 1.479, time/batch = 0.139\n",
      "----------------------------------\n",
      "SAMPLE GENERATED TEXT:\n",
      "The say.\n",
      "\n",
      "COMINIUG:\n",
      "I thou, lany fault thou thinks of hence,' repent the bate.\n",
      "How most thou!\n",
      "Amack maditable live.\n",
      "\n",
      "Second Carrausious;\n",
      "For the sign them\n",
      "----------------------------------\n",
      "5219/8700 (epoch 29), train_loss = 1.477, time/batch = 0.130\n",
      "----------------------------------\n",
      "SAMPLE GENERATED TEXT:\n",
      "The hour bolly, gave, against in throwd.\n",
      "Here, your good,\n",
      "When thou the kingfulles his before by thee to an evil out all I greator:\n",
      "And that I beseech air\n",
      "----------------------------------\n",
      "5393/8700 (epoch 30), train_loss = 1.475, time/batch = 0.146\n",
      "----------------------------------\n",
      "SAMPLE GENERATED TEXT:\n",
      "The is. Come! furch'd a shall,\n",
      "And sin you and reventance know?\n",
      "Your dequire bold and volchame:\n",
      "Good his that you now whose with, I so:\n",
      "Plasp recounse\n",
      "I d\n",
      "----------------------------------\n",
      "5567/8700 (epoch 31), train_loss = 1.474, time/batch = 0.139\n",
      "----------------------------------\n",
      "SAMPLE GENERATED TEXT:\n",
      "The maid thee, speeties:\n",
      "O heaven lament,\n",
      "To eath,\n",
      "As like to justic\n",
      "Known there's ground the tubre, while is in than this?\n",
      "How was the faults and from it\n",
      "----------------------------------\n",
      "5741/8700 (epoch 32), train_loss = 1.472, time/batch = 0.144\n",
      "----------------------------------\n",
      "SAMPLE GENERATED TEXT:\n",
      "The majesty.\n",
      "\n",
      "ARIEL:\n",
      "Will past away ster, to have seek fro't! They she last of, terry, neither than is the duke\n",
      "I would I was arm,\n",
      "Aim his hears poiting s\n",
      "----------------------------------\n",
      "5915/8700 (epoch 33), train_loss = 1.471, time/batch = 0.158\n",
      "----------------------------------\n",
      "SAMPLE GENERATED TEXT:\n",
      "The would a propork, keepler:\n",
      "Why, my man bid me to the This now, the joy.\n",
      "\n",
      "GREMIO:\n",
      "How counter'd\n",
      "From ores.\n",
      "\n",
      "LADY ANPO:\n",
      "It\n",
      "he he'ming daughters at overy\n",
      "\n",
      "----------------------------------\n",
      "6089/8700 (epoch 34), train_loss = 1.469, time/batch = 0.134\n",
      "----------------------------------\n",
      "SAMPLE GENERATED TEXT:\n",
      "The would wiped; as your lord?\n",
      "\n",
      "TYTRA:\n",
      "How had lost fignacioly had long one! 'tis he foud somethin he says are fire of my name\n",
      "His name's than though pres\n",
      "----------------------------------\n",
      "6263/8700 (epoch 35), train_loss = 1.468, time/batch = 0.180\n",
      "----------------------------------\n",
      "SAMPLE GENERATED TEXT:\n",
      "The would forced.\n",
      "\n",
      "HENRY BOLINGBROKE:\n",
      "You be not we sled\n",
      "therefore, liesin, I pray the call for the name to chidia to sovered upon my monuch,\n",
      "Whilgirs\n",
      "A t\n",
      "----------------------------------\n",
      "6437/8700 (epoch 36), train_loss = 1.466, time/batch = 0.185\n",
      "----------------------------------\n",
      "SAMPLE GENERATED TEXT:\n",
      "The news?\n",
      "\n",
      "LUCENTIO:\n",
      "A might.\n",
      "By troth,\n",
      "Bid iBoanty in you depoky.\n",
      "\n",
      "JULIET:\n",
      "Or thoughts tiesimy to time it myself,\n",
      "Wild a shade are you not before by your\n",
      "----------------------------------\n",
      "6611/8700 (epoch 37), train_loss = 1.465, time/batch = 0.165\n",
      "----------------------------------\n",
      "SAMPLE GENERATED TEXT:\n",
      "The high, not let complay'd so, since with the strengthe! Richard's all tne my mood:\n",
      "A place dishem, as Henry's beary, not disposiling to a virward aod\n",
      "or\n",
      "----------------------------------\n",
      "6785/8700 (epoch 38), train_loss = 1.463, time/batch = 0.138\n",
      "----------------------------------\n",
      "SAMPLE GENERATED TEXT:\n",
      "The Laideness,\n",
      "More masters:\n",
      "Lead to mild goody forth 'twere keakmn war.\n",
      "Hrow'st night\n",
      "In love,\n",
      "Where will doth Rome:\n",
      "Ay, good Caucience to Dure to them; \n",
      "----------------------------------\n",
      "6959/8700 (epoch 39), train_loss = 1.462, time/batch = 0.148\n",
      "----------------------------------\n",
      "SAMPLE GENERATED TEXT:\n",
      "The country.\n",
      "Lew yourself,\n",
      "More bedied.\n",
      "\n",
      "Peds\n",
      "Sear, were ere their treess, infore from her or old Could plain\n",
      "foocions\n",
      "In swear; to be his banks being you\n",
      "----------------------------------\n",
      "7133/8700 (epoch 40), train_loss = 1.461, time/batch = 0.159\n",
      "----------------------------------\n",
      "SAMPLE GENERATED TEXT:\n",
      "The word as 'tune of my meeck, or which myself's yourself joy stafter; to revence blood means acts, sir.\n",
      "\n",
      "RICHARD:\n",
      "So plain'd the lives, let they desperis\n",
      "----------------------------------\n",
      "7307/8700 (epoch 41), train_loss = 1.460, time/batch = 0.161\n",
      "----------------------------------\n",
      "SAMPLE GENERATED TEXT:\n",
      "The left, gentle been\n",
      "inly tongue who,\n",
      "Urquest.\n",
      "\n",
      "MARIANA:\n",
      "Now, wedk is her! what call'd but to rainter and of Sumen to tell; say, will, if you datch.\n",
      "\n",
      "BIO\n",
      "----------------------------------\n",
      "7481/8700 (epoch 42), train_loss = 1.459, time/batch = 0.155\n",
      "----------------------------------\n",
      "SAMPLE GENERATED TEXT:\n",
      "The attoth else and to be in meet, will one an more something told, Events use the dukeman:\n",
      "Ay, wherear\n",
      "so objoke every lives\n",
      "Bed, it bemight\n",
      "Upon thou kn\n",
      "----------------------------------\n",
      "7655/8700 (epoch 43), train_loss = 1.457, time/batch = 0.167\n",
      "----------------------------------\n",
      "SAMPLE GENERATED TEXT:\n",
      "The cousin him from his him: contrue before mine,\n",
      "She tot-uate coverte;\n",
      "You heavy base and thy fair usjury; and meth took not when who, again:\n",
      "Why lancher\n",
      "----------------------------------\n",
      "7829/8700 (epoch 44), train_loss = 1.456, time/batch = 0.143\n",
      "----------------------------------\n",
      "SAMPLE GENERATED TEXT:\n",
      "The dust body where answerdise of Engnator,\n",
      "Sweet yet, and 'twas have reash'd heav'\n",
      "A kind of just as I will you swour eal, and sovereish arm helm interfu\n",
      "----------------------------------\n",
      "8003/8700 (epoch 45), train_loss = 1.455, time/batch = 0.153\n",
      "----------------------------------\n",
      "SAMPLE GENERATED TEXT:\n",
      "The kings will half soul and elrougession with way\n",
      "Bear thee have by not though we dare\n",
      "With your pringolty uncle-borting tornent.\n",
      "That wouns,\n",
      "But to shal\n",
      "----------------------------------\n",
      "8177/8700 (epoch 46), train_loss = 1.455, time/batch = 0.185\n",
      "----------------------------------\n",
      "SAMPLE GENERATED TEXT:\n",
      "The Servingman:\n",
      "How hear,\n",
      "As shed wilt deat;\n",
      "Thirt those death; and say:\n",
      "Yea, given to desire.\n",
      "\n",
      "ISABELLA:\n",
      "And deparned the Volsces of one meronamnet.\n",
      "\n",
      "MAR\n",
      "----------------------------------\n",
      "8351/8700 (epoch 47), train_loss = 1.454, time/batch = 0.159\n",
      "----------------------------------\n",
      "SAMPLE GENERATED TEXT:\n",
      "The carr,\n",
      "Are now the morse thou cancon.\n",
      "\n",
      "Third He will, never words with was this gentle burna fear King dares thee, name loving.\n",
      "\n",
      "LADY BALO:\n",
      "Gid!\n",
      "\n",
      "JULIE\n",
      "----------------------------------\n",
      "8525/8700 (epoch 48), train_loss = 1.453, time/batch = 0.173\n",
      "----------------------------------\n",
      "SAMPLE GENERATED TEXT:\n",
      "The news should back with the thing mander'd\n",
      "the feeing. Dvermed your beloice,\n",
      "That within must will sourse nevertess!'\n",
      "\n",
      "VI\n",
      "TIANAEL:\n",
      "That be do is\n",
      "I sume \n",
      "----------------------------------\n",
      "8699/8700 (epoch 49), train_loss = 1.452, time/batch = 0.175\n",
      "----------------------------------\n",
      "SAMPLE GENERATED TEXT:\n",
      "The heir, sword, brother by the kins-what by each'd itabed companion\n",
      "Withou wilt have harvation; what, priciou up.\n",
      "For a criest and more fraling for to o'\n",
      "----------------------------------\n"
     ]
    }
   ],
   "source": [
    "avg_batch_running_duration_CPU=[]\n",
    "tf.reset_default_graph()\n",
    "\n",
    "with tf.variable_scope(\"rnn_CPU\"):\n",
    "    model = LSTMModel(device='/cpu:0')\n",
    "with tf.Session() as sess:\n",
    "    sess.run(tf.global_variables_initializer())\n",
    "    for e in range(num_epochs): # num_epochs is 20 for test, but should be higher\n",
    "        sess.run(tf.assign(model.lr, learning_rate * (decay_rate ** e)))\n",
    "        ## write your code below to reset the batch pointer in data_loader. you can use reset_batch_pointer()\n",
    "        ##\n",
    "        data_loader.reset_batch_pointer()\n",
    "        \n",
    "        state = sess.run(model.initial_state) # model initialization\n",
    "        batch_running_duration_CPU = []\n",
    "        for b in range(data_loader.num_batches): #for each batch\n",
    "            start = time.time()\n",
    "            ## write your code to define your x and y. You should use next_batch() from data_loader\n",
    "            ## e.g. x,y =\n",
    "            ##\n",
    "            x, y = data_loader.next_batch()\n",
    "            \n",
    "            feed = {model.input_data: x, model.targets: y, model.initial_state: state}\n",
    "            \n",
    "            ## write your code to train the model\n",
    "            ## e.g.: train_loss, state, _ = \n",
    "            ##\n",
    "            sess.run(model.train_op, feed_dict = feed)\n",
    "            train_loss = sess.run(model.cost, feed_dict = feed)\n",
    "            final_state, _ = sess.run(model.final_state, feed_dict = feed)\n",
    "            \n",
    "            end = time.time()\n",
    "            \n",
    "            ## write your code to store the duration of running each batch in a list (end - start)\n",
    "            ##\n",
    "            batch_running_duration_CPU.append(end - start)\n",
    "            \n",
    "        print(\"{}/{} (epoch {}), train_loss = {:.3f}, time/batch = {:.3f}\" \\\n",
    "                .format(e * data_loader.num_batches + b, num_epochs * data_loader.num_batches, e, train_loss, end - start))\n",
    "        avg_batch_running_duration_CPU.append(sum(batch_running_duration_CPU) / float(len(batch_running_duration_CPU)))\n",
    "        \n",
    "        # Please uncomment the following block of the code so the grader can see the sample of prediction\n",
    "        with tf.variable_scope(\"rnn_CPU\", reuse=True):\n",
    "            sample_model = LSTMModel(sample=True)\n",
    "            print ('----------------------------------')\n",
    "            print ('SAMPLE GENERATED TEXT:')\n",
    "            print (sample_model.sample(sess, data_loader.chars , data_loader.vocab, num=150, prime='The ', sampling_type=1))\n",
    "            print ('----------------------------------')"
   ]
  },
  {
   "cell_type": "markdown",
   "metadata": {
    "button": false,
    "deletable": true,
    "new_sheet": false,
    "run_control": {
     "read_only": false
    }
   },
   "source": [
    "<a id=\"question_2\"></a>\n",
    "<h2>Question 2: Complete the code to run it on GPU</h2>\n",
    "Now, create the same network with GPU, and calculate the time/batch for running each batch"
   ]
  },
  {
   "cell_type": "code",
   "execution_count": 30,
   "metadata": {
    "button": false,
    "collapsed": true,
    "deletable": true,
    "new_sheet": false,
    "run_control": {
     "read_only": false
    }
   },
   "outputs": [
    {
     "name": "stdout",
     "output_type": "stream",
     "text": [
      "173/8700 (epoch 0), train_loss = 2.060, time/batch = 0.055\n",
      "----------------------------------\n",
      "SAMPLE GENERATED TEXT:\n",
      "The bus liigest:\n",
      "His whis menelirter,\n",
      "as erone stou more my iill tur,--'id The\n",
      "I ma; Shere our hars, poo hear has:\n",
      "Stow woll bping; Chy soud or You swall \n",
      "----------------------------------\n",
      "347/8700 (epoch 1), train_loss = 1.857, time/batch = 0.056\n",
      "----------------------------------\n",
      "SAMPLE GENERATED TEXT:\n",
      "The saithes, the viremis, gighy-lakem,\n",
      "whith like hes onterupeitherd sounten? to mun he pot beep!\n",
      "\n",
      "GXUSOENBANLI:\n",
      "But Magrow: for the intinf.\n",
      "Hes shill the\n",
      "----------------------------------\n",
      "521/8700 (epoch 2), train_loss = 1.755, time/batch = 0.055\n",
      "----------------------------------\n",
      "SAMPLE GENERATED TEXT:\n",
      "The were your his incing comen.\n",
      "\n",
      "NWARWARD: I hop our was ye than and Lort at the bonnduient,\n",
      "Whurd, juds plean tean me sosen perpuce that here leave a wel\n",
      "----------------------------------\n",
      "695/8700 (epoch 3), train_loss = 1.695, time/batch = 0.055\n",
      "----------------------------------\n",
      "SAMPLE GENERATED TEXT:\n",
      "The 'Twast be welnow.\n",
      "Sfuminiends' tit.\n",
      "\n",
      "Counter Pallought as; speak and treparud their, son thubly, to speak I may,, 'Dick stemporeast our bearveng celes\n",
      "----------------------------------\n",
      "869/8700 (epoch 4), train_loss = 1.657, time/batch = 0.055\n",
      "----------------------------------\n",
      "SAMPLE GENERATED TEXT:\n",
      "The every for thee.\n",
      "\n",
      "PRI:\n",
      "Gostory fouth end thee sIONIO:\n",
      "Lets a jays.\n",
      "Lefe that tabser, pary'le is the gairs\n",
      "TIO worthy of again.\n",
      "\n",
      "POUVELBOUTES:\n",
      "You hourt\n",
      "----------------------------------\n",
      "1043/8700 (epoch 5), train_loss = 1.628, time/batch = 0.056\n",
      "----------------------------------\n",
      "SAMPLE GENERATED TEXT:\n",
      "The acthour this is.\n",
      "Cactwer las her mare with's sto, let you hear:\n",
      "Ap in that never are my forboon unsain\n",
      "Earch for will thou take him but smalf of hisNo\n",
      "----------------------------------\n",
      "1217/8700 (epoch 6), train_loss = 1.605, time/batch = 0.055\n",
      "----------------------------------\n",
      "SAMPLE GENERATED TEXT:\n",
      "The gratts, each upon gion law's\n",
      "Away; hear it; but is grace\n",
      "Before abusine wrathsom fars tongerispos, bory ad ont sir:\n",
      "Yor giof lonlo she shaply is hast \n",
      "----------------------------------\n",
      "1391/8700 (epoch 7), train_loss = 1.586, time/batch = 0.055\n",
      "----------------------------------\n",
      "SAMPLE GENERATED TEXT:\n",
      "The placius.\n",
      "\n",
      "BIXKISY:\n",
      "Me\n",
      "tome live\n",
      "\n",
      "shepper;\n",
      "The untolious prast the fieves, nate so provelly, to just and swrowted to your fathich Is do you! Shall kiss\n",
      "----------------------------------\n",
      "1565/8700 (epoch 8), train_loss = 1.571, time/batch = 0.055\n",
      "----------------------------------\n",
      "SAMPLE GENERATED TEXT:\n",
      "The wand my walsiss from us is did thy narm,\n",
      "He should had clove grace good apprach'd strijes\n",
      "No it\n",
      "ere it, and needers\n",
      "And we? sleek banishm be permencif\n",
      "----------------------------------\n",
      "1739/8700 (epoch 9), train_loss = 1.558, time/batch = 0.055\n",
      "----------------------------------\n",
      "SAMPLE GENERATED TEXT:\n",
      "The stopings' twase,\n",
      "And is sterely, to his grafed.\n",
      "\n",
      "LUCIO:\n",
      "No, are with anown?\n",
      "\n",
      "QUCENLO:\n",
      "That arry. She's other, what.\n",
      "\n",
      "First Miny your most.\n",
      "\n",
      "YORK:\n",
      "Go w\n",
      "----------------------------------\n",
      "1913/8700 (epoch 10), train_loss = 1.547, time/batch = 0.055\n",
      "----------------------------------\n",
      "SAMPLE GENERATED TEXT:\n",
      "The glast,\n",
      "Had all in my inforest chamed, he, for these wander is suption of your daughter, are good such a thousing name, and him answick'd and while is \n",
      "----------------------------------\n",
      "2087/8700 (epoch 11), train_loss = 1.537, time/batch = 0.055\n",
      "----------------------------------\n",
      "SAMPLE GENERATED TEXT:\n",
      "The ply in trown him.\n",
      "\n",
      "KIND LOWINGO:\n",
      "Ay, he so was shall viario?\n",
      "\n",
      "LORGELIUT:\n",
      "I that 'tis wanter takes the fich with the night,\n",
      "How thou this earth\n",
      "To abue\n",
      "----------------------------------\n",
      "2261/8700 (epoch 12), train_loss = 1.529, time/batch = 0.055\n",
      "----------------------------------\n",
      "SAMPLE GENERATED TEXT:\n",
      "The king.\n",
      "\n",
      "VOLUMNIAN:\n",
      "O, the thight, but sucled to whild prince,\n",
      "For sucting;\n",
      "Gring that he to be sir! I had let's a change walker this any, whom but him-\n",
      "----------------------------------\n",
      "2435/8700 (epoch 13), train_loss = 1.521, time/batch = 0.055\n",
      "----------------------------------\n",
      "SAMPLE GENERATED TEXT:\n",
      "The wlay you plack.\n",
      "Mowend you can the noble but tome should suy fieremity,\n",
      "That dream?\n",
      "\n",
      "ANTIO:\n",
      "I will as I be thousing,\n",
      "A morts,\n",
      "And, yet Condeman's dead\n",
      "----------------------------------\n",
      "2609/8700 (epoch 14), train_loss = 1.515, time/batch = 0.055\n",
      "----------------------------------\n",
      "SAMPLE GENERATED TEXT:\n",
      "The might known Come\n",
      "closs, are's even hear. Thy emast to throw on their soul arlife, what shall hear the fled;\n",
      "As't in your thought out your grace,\n",
      "Is sh\n",
      "----------------------------------\n",
      "2783/8700 (epoch 15), train_loss = 1.509, time/batch = 0.056\n",
      "----------------------------------\n",
      "SAMPLE GENERATED TEXT:\n",
      "The lass,\n",
      "And the into this faith the suckle deperf;\n",
      "O lischest child, and his grier, my truth me, uncle adors, unquing hurpose the trown will report, by \n",
      "----------------------------------\n",
      "2957/8700 (epoch 16), train_loss = 1.505, time/batch = 0.055\n",
      "----------------------------------\n",
      "SAMPLE GENERATED TEXT:\n",
      "The pience, were liege, what God but royal the pricaying of perish'd to him? Call me come in in broeds.\n",
      "\n",
      "AEdizen:\n",
      "Marcking freth down the business of all'\n",
      "----------------------------------\n",
      "3131/8700 (epoch 17), train_loss = 1.501, time/batch = 0.055\n",
      "----------------------------------\n",
      "SAMPLE GENERATED TEXT:\n",
      "The while?\n",
      "\n",
      "BAPTISTA:\n",
      "'Tamp house thee.\n",
      "\n",
      "GONZALOS:\n",
      "O lustor:\n",
      "I shall be none?\n",
      "\n",
      "TRANIO:\n",
      "Even we tack me a trung?\n",
      "\n",
      "Hoo cause thee, nor tear.\n",
      "\n",
      "AERLAND:\n",
      "You s\n",
      "----------------------------------\n",
      "3305/8700 (epoch 18), train_loss = 1.497, time/batch = 0.056\n",
      "----------------------------------\n",
      "SAMPLE GENERATED TEXT:\n",
      "The duke we alts as tuo.\n",
      "\n",
      "PRINCE Edward him!\n",
      "\n",
      "VINCENTIO:\n",
      "Will this ucellain.\n",
      "Why, peor thy work?\n",
      "\n",
      "CLORET:\n",
      "\n",
      "KING RICHARD III:\n",
      "I tell so rother,\n",
      "As any\n",
      "In't\n",
      "----------------------------------\n",
      "3479/8700 (epoch 19), train_loss = 1.493, time/batch = 0.055\n",
      "----------------------------------\n",
      "SAMPLE GENERATED TEXT:\n",
      "The streign, let her wherefore the ends had I am say my lord;\n",
      "For his brother.\n",
      "Beseer thy lady, in hine, you well: catlady the Luppies word,\n",
      "They\n",
      "Who, tea\n",
      "----------------------------------\n",
      "3653/8700 (epoch 20), train_loss = 1.490, time/batch = 0.055\n",
      "----------------------------------\n",
      "SAMPLE GENERATED TEXT:\n",
      "The withle weiry, the majain ofter\n",
      "And ime and lope, I therefore 'twant Bickings; but we shall go tray you not\n",
      "Will we eyed are now eftel it removeet the \n",
      "----------------------------------\n",
      "3827/8700 (epoch 21), train_loss = 1.487, time/batch = 0.056\n",
      "----------------------------------\n",
      "SAMPLE GENERATED TEXT:\n",
      "The garing us a king and charqures urtime fees answer smeef!\n",
      "Good mishonour?\n",
      "Sail offectied:\n",
      "Which to my heart;\n",
      "Yet no name, leave,\n",
      "And hear there! Ay, fa\n",
      "----------------------------------\n",
      "4001/8700 (epoch 22), train_loss = 1.484, time/batch = 0.055\n",
      "----------------------------------\n",
      "SAMPLE GENERATED TEXT:\n",
      "The salful apon their love,\n",
      "Who\n",
      "We'll\n",
      "\n",
      "Severtin'd the quects\n",
      "Thou littens.\n",
      "\n",
      "BIONDELLO:\n",
      "Then as longy with such had beforeme me\n",
      "Ten your enemys; 'tis no sc\n",
      "----------------------------------\n",
      "4175/8700 (epoch 23), train_loss = 1.481, time/batch = 0.055\n",
      "----------------------------------\n",
      "SAMPLE GENERATED TEXT:\n",
      "The judvent:\n",
      "I would fear the dight\n",
      "me youth may'l.\n",
      "For, no devied to bessensing with me.\n",
      "\n",
      "CORIOLANUS:\n",
      "How in his convey to be so east?\n",
      "\n",
      "LOON:\n",
      "True leosed\n",
      "----------------------------------\n",
      "4349/8700 (epoch 24), train_loss = 1.479, time/batch = 0.056\n",
      "----------------------------------\n",
      "SAMPLE GENERATED TEXT:\n",
      "The quathers and confess? I will ears' accascationy, and be vengean to kiss the bodal sevent\n",
      "Should toothy both state;\n",
      "For Bolimpared my braw; ball, made \n",
      "----------------------------------\n",
      "4523/8700 (epoch 25), train_loss = 1.477, time/batch = 0.055\n",
      "----------------------------------\n",
      "SAMPLE GENERATED TEXT:\n",
      "The firmbling enterplord;\n",
      "For this\n",
      "deed tongue lies, Sight bory love it it?\n",
      "Cachard laid I henry acreckep'd 'ncouch good citizens,\n",
      "Than he that worth ear \n",
      "----------------------------------\n",
      "4697/8700 (epoch 26), train_loss = 1.474, time/batch = 0.055\n",
      "----------------------------------\n",
      "SAMPLE GENERATED TEXT:\n",
      "The mild but servised:\n",
      "To cannot see with thie;\n",
      "My; and now: yet not thou,\n",
      "Should be resamon man!\n",
      "He were thy angriries of ybully by a curnible charge,\n",
      "We\n",
      "----------------------------------\n",
      "4871/8700 (epoch 27), train_loss = 1.472, time/batch = 0.055\n",
      "----------------------------------\n",
      "SAMPLE GENERATED TEXT:\n",
      "The larch: seek my lord.\n",
      "My led-more capulety,: but lady's some, and you to the desced's merry it true, broke on fie;\n",
      "Lege\n",
      "To she farewell, kepedine again\n",
      "----------------------------------\n",
      "5045/8700 (epoch 28), train_loss = 1.470, time/batch = 0.055\n",
      "----------------------------------\n",
      "SAMPLE GENERATED TEXT:\n",
      "The fly werver do not precour inford.\n",
      "\n",
      "AUTOLYCUS:\n",
      "I wow be groag!\n",
      "Mine issues no place!\n",
      "\n",
      "LEONTES:\n",
      "Your land of them,\n",
      "Thou is as I woe, I knows Enword, I b\n",
      "----------------------------------\n",
      "5219/8700 (epoch 29), train_loss = 1.469, time/batch = 0.055\n",
      "----------------------------------\n",
      "SAMPLE GENERATED TEXT:\n",
      "The beet dolm:\n",
      "If these swold are at on you forerour.\n",
      "She say?\n",
      "\n",
      "DUKE OF YORK:\n",
      "Why, thy fair some confiter'st\n",
      "And this heavensage, shall well, Cloilt.\n",
      "What\n",
      "----------------------------------\n",
      "5393/8700 (epoch 30), train_loss = 1.467, time/batch = 0.055\n",
      "----------------------------------\n",
      "SAMPLE GENERATED TEXT:\n",
      "The presure\n",
      "As one to-morrow,\n",
      "And should say, sir, but\n",
      "this shall thy true;\n",
      "Shrown of his nortching; I cannot usin't fee-inet his heart\n",
      "Tall'd these; bowl\n",
      "----------------------------------\n",
      "5567/8700 (epoch 31), train_loss = 1.465, time/batch = 0.055\n",
      "----------------------------------\n",
      "SAMPLE GENERATED TEXT:\n",
      "The I bepittagues, imbandant! Ky recompt'd eld wisheff how to go.\n",
      "\n",
      "Nurse:\n",
      "Ratch sweet refeitle to but as one-deorth we can cleth no royal to put him hung \n",
      "----------------------------------\n",
      "5741/8700 (epoch 32), train_loss = 1.464, time/batch = 0.055\n",
      "----------------------------------\n",
      "SAMPLE GENERATED TEXT:\n",
      "The dead to Gentleman; 'tis in me, I was a from go the warb the marthed on more of the strick,\n",
      "If talk the servance Fresp and his moon.\n",
      "\n",
      "PETRUCHIO:\n",
      "Ay, wh\n",
      "----------------------------------\n",
      "5915/8700 (epoch 33), train_loss = 1.462, time/batch = 0.055\n",
      "----------------------------------\n",
      "SAMPLE GENERATED TEXT:\n",
      "The grounds I him a last woa by your comply happy thou now,\n",
      "Let die.\n",
      "What care not?\n",
      "\n",
      "HORTENSIO:\n",
      "Spoke have bear, and be nerent,\n",
      "Your tears is of a deceive\n",
      "----------------------------------\n",
      "6089/8700 (epoch 34), train_loss = 1.461, time/batch = 0.054\n",
      "----------------------------------\n",
      "SAMPLE GENERATED TEXT:\n",
      "The parting: for you; now devil devair klair\n",
      "Honound preservied chieffiel'd,\n",
      "And will me wants which,\n",
      "And if thou is't?\n",
      "\n",
      "ROMEO:\n",
      "I mark in well ass too ins\n",
      "----------------------------------\n",
      "6263/8700 (epoch 35), train_loss = 1.459, time/batch = 0.056\n",
      "----------------------------------\n",
      "SAMPLE GENERATED TEXT:\n",
      "The wife seases creedure neur friend here\n",
      "Ned 'tongue it added!\n",
      "\n",
      "HORTENSIO:\n",
      "Your dazerry,\n",
      "That KING RICHARD III:\n",
      "Sungman:\n",
      "Master. Plucks a stone pleasince\n",
      "----------------------------------\n",
      "6437/8700 (epoch 36), train_loss = 1.458, time/batch = 0.056\n",
      "----------------------------------\n",
      "SAMPLE GENERATED TEXT:\n",
      "The good growns in contomeet?\n",
      "Oor, you verd ear, lovely are you subpute:\n",
      "Antage strange,\n",
      "That? it shephervend to be our reliverry hanns;\n",
      "Seell tell with-w\n",
      "----------------------------------\n",
      "6611/8700 (epoch 37), train_loss = 1.457, time/batch = 0.055\n",
      "----------------------------------\n",
      "SAMPLE GENERATED TEXT:\n",
      "The ney.\n",
      "\n",
      "SARELDUTIO:\n",
      "Gool,\n",
      "Tell the garew conslingly of sheck, not it.\n",
      "\n",
      "KING HENRY BOLINGBROKE:\n",
      "Thou watch no Cluse of:\n",
      "Ay, to the good pauldua, you stop\n",
      "----------------------------------\n",
      "6785/8700 (epoch 38), train_loss = 1.455, time/batch = 0.058\n",
      "----------------------------------\n",
      "SAMPLE GENERATED TEXT:\n",
      "The greeful gaid of youth to know\n",
      "I would be no gar to him, be you, forbear.\n",
      "\n",
      "First make a scond part\n",
      "Did I am came can one the fapertural, for his fors, \n",
      "----------------------------------\n",
      "6959/8700 (epoch 39), train_loss = 1.454, time/batch = 0.055\n",
      "----------------------------------\n",
      "SAMPLE GENERATED TEXT:\n",
      "The veryshing it may of what, tirle,\n",
      "Tepuls shake me soin been.\n",
      "\n",
      "God:\n",
      "I say:\n",
      "Remeoso Ninsume them with point we say be and tight srucks therein yonder of \n",
      "----------------------------------\n",
      "7133/8700 (epoch 40), train_loss = 1.453, time/batch = 0.055\n",
      "----------------------------------\n",
      "SAMPLE GENERATED TEXT:\n",
      "The heaven lets by done to his brother,\n",
      "That, I cards me all streces be preposed as it shall be boat you voser is out of signior villament;\n",
      "And unto honou\n",
      "----------------------------------\n",
      "7307/8700 (epoch 41), train_loss = 1.452, time/batch = 0.055\n",
      "----------------------------------\n",
      "SAMPLE GENERATED TEXT:\n",
      "The foil shall: makes me, I fediur!\n",
      "\n",
      "BUCKINGHAM:\n",
      "I ina daughter in the feince is the rood,\n",
      "Would thinking talk ston, the whereof a soul mine oat nor disgu\n",
      "----------------------------------\n",
      "7481/8700 (epoch 42), train_loss = 1.451, time/batch = 0.055\n",
      "----------------------------------\n",
      "SAMPLE GENERATED TEXT:\n",
      "The heaven free.\n",
      "If I to stands\n",
      "That have mine to better, go bring though that just to more to alack; if your countented his holdbitire cold, what were th\n",
      "----------------------------------\n",
      "7655/8700 (epoch 43), train_loss = 1.450, time/batch = 0.055\n",
      "----------------------------------\n",
      "SAMPLE GENERATED TEXT:\n",
      "The dreasure,\n",
      "For Edward.\n",
      "\n",
      "BUCKINGHAM:\n",
      "Speak of that, and enteek, I were shalloyards he cover mercy\n",
      "This monour. If death\n",
      "That never love't us keser; I wo\n",
      "----------------------------------\n",
      "7829/8700 (epoch 44), train_loss = 1.449, time/batch = 0.055\n",
      "----------------------------------\n",
      "SAMPLE GENERATED TEXT:\n",
      "The wills indole first\n",
      "Dear lend at biddaught me to graties;\n",
      "Anded what may not I wave and name haste Biard,\n",
      "And else would heart? thereffatter,\n",
      "And leave\n",
      "----------------------------------\n",
      "8003/8700 (epoch 45), train_loss = 1.448, time/batch = 0.055\n",
      "----------------------------------\n",
      "SAMPLE GENERATED TEXT:\n",
      "The matce's sovereign butter am a very when itself?\n",
      "\n",
      "HORTENSIO:\n",
      "Would not be give me a woes them I say\n",
      "this wrong.\n",
      "\n",
      "MENENIUS:\n",
      "What is impositted awaful so\n",
      "----------------------------------\n",
      "8177/8700 (epoch 46), train_loss = 1.448, time/batch = 0.055\n",
      "----------------------------------\n",
      "SAMPLE GENERATED TEXT:\n",
      "The worse will all order seven-taight, Paulful,\n",
      "Let the followio.\n",
      "\n",
      "JULIET:\n",
      "Can\n",
      "Ha seat to seem up thereto earlen:\n",
      "I beserw'st me their wounds foise!\n",
      "\n",
      "KING\n",
      "----------------------------------\n",
      "8351/8700 (epoch 47), train_loss = 1.447, time/batch = 0.055\n",
      "----------------------------------\n",
      "SAMPLE GENERATED TEXT:\n",
      "The threement these, answer Proffuder. Blaker mar no, beoper'd till all from appear'd?\n",
      "\n",
      "Servold up you?\n",
      "\n",
      "KING EDWARD IV:\n",
      "How being young steel the wrongs\n",
      "\n",
      "----------------------------------\n",
      "8525/8700 (epoch 48), train_loss = 1.446, time/batch = 0.056\n",
      "----------------------------------\n",
      "SAMPLE GENERATED TEXT:\n",
      "The heal\n",
      "Pracious Duke owe coususted\n",
      "Will not plaches of that too.\n",
      "\n",
      "OXFORD:\n",
      "I may sound not before my patted.\n",
      "\n",
      "Thirvello climent these;\n",
      "Tare queen young t\n",
      "----------------------------------\n",
      "8699/8700 (epoch 49), train_loss = 1.445, time/batch = 0.053\n",
      "----------------------------------\n",
      "SAMPLE GENERATED TEXT:\n",
      "The brother,\n",
      "For stable 's spribely? stings moon old gets.\n",
      "Hethon, belwitt titly beguing's for all thy nead.\n",
      "This whisht wither? look here? wrough there,\n",
      "\n",
      "----------------------------------\n"
     ]
    }
   ],
   "source": [
    "### Create the same network using GPU\n",
    "\n",
    "avg_batch_running_duration_GPU=[]\n",
    "tf.reset_default_graph()\n",
    "\n",
    "with tf.variable_scope(\"rnn_GPU\"):\n",
    "    model = LSTMModel(device='/gpu:0')\n",
    "with tf.Session() as sess:\n",
    "    sess.run(tf.global_variables_initializer())\n",
    "    for e in range(num_epochs): # num_epochs is 20 for test, but should be higher\n",
    "        sess.run(tf.assign(model.lr, learning_rate * (decay_rate ** e)))\n",
    "        ## write your code below to reset the batch pointer in data_loader. you can use reset_batch_pointer()\n",
    "        ##\n",
    "        data_loader.reset_batch_pointer()\n",
    "        \n",
    "        state = sess.run(model.initial_state) # model initialization\n",
    "        batch_running_duration_GPU = []\n",
    "        for b in range(data_loader.num_batches): #for each batch\n",
    "            start = time.time()\n",
    "            ## write your code to define your x and y. You should use next_batch() from data_loader\n",
    "            ## e.g. x,y =\n",
    "            ##\n",
    "            x, y = data_loader.next_batch()\n",
    "            \n",
    "            feed = {model.input_data: x, model.targets: y, model.initial_state:state}   \n",
    "            \n",
    "            ## write your code to train the model\n",
    "            ## e.g.: train_loss, state, _ = \n",
    "            ##\n",
    "            sess.run(model.train_op, feed_dict = feed)\n",
    "            train_loss = sess.run(model.cost, feed_dict = feed)\n",
    "            final_state, _ = sess.run(model.final_state, feed_dict = feed)\n",
    "            \n",
    "            end = time.time()\n",
    "            ## write your code to store the duration of running each batch in a list (end - start)\n",
    "            ##\n",
    "            batch_running_duration_GPU.append(end - start)\n",
    "            \n",
    "        print(\"{}/{} (epoch {}), train_loss = {:.3f}, time/batch = {:.3f}\" \\\n",
    "                .format(e * data_loader.num_batches + b, num_epochs * data_loader.num_batches, e, train_loss, end - start))\n",
    "        avg_batch_running_duration_GPU.append(sum(batch_running_duration_GPU) / float(len(batch_running_duration_GPU)))\n",
    "        \n",
    "        # Please uncomment the following block of the code so the grader can see the sample of prediction\n",
    "        with tf.variable_scope(\"rnn_GPU\", reuse=True):\n",
    "            sample_model = LSTMModel(sample=True)\n",
    "            print ('----------------------------------')\n",
    "            print ('SAMPLE GENERATED TEXT:')\n",
    "            print (sample_model.sample(sess, data_loader.chars , data_loader.vocab, num=150, prime='The ', sampling_type=1))\n",
    "            print ('----------------------------------')"
   ]
  },
  {
   "cell_type": "markdown",
   "metadata": {
    "button": false,
    "deletable": true,
    "new_sheet": false,
    "run_control": {
     "read_only": false
    }
   },
   "source": [
    "<a id=\"question_3\"></a>\n",
    "<h2>Question 3: Compare the results</h2>\n",
    "Finally, using a graph, show the speed of training (batch/time) for the model running on GPU and CPU:"
   ]
  },
  {
   "cell_type": "code",
   "execution_count": 33,
   "metadata": {
    "button": false,
    "collapsed": true,
    "deletable": true,
    "new_sheet": false,
    "run_control": {
     "read_only": false
    }
   },
   "outputs": [
    {
     "data": {
      "image/png": "[encoded data removed]",
      "text/plain": [
       "<Figure size 432x288 with 1 Axes>"
      ]
     },
     "metadata": {},
     "output_type": "display_data"
    }
   ],
   "source": [
    "## Write your code here\n",
    "import matplotlib.pyplot as plt\n",
    "\n",
    "plt.plot(range(data_loader.num_batches), batch_running_duration_CPU, label = 'CPU')\n",
    "plt.plot(range(data_loader.num_batches), batch_running_duration_GPU, label = 'GPU')\n",
    "plt.title('CPU vs. GPU Training Speed (sec/batch)')\n",
    "plt.xlabel('Batch')\n",
    "plt.ylabel('Time (sec)')\n",
    "plt.legend()\n",
    "plt.show()"
   ]
  },
  {
   "cell_type": "markdown",
   "metadata": {
    "button": false,
    "deletable": true,
    "new_sheet": false,
    "run_control": {
     "read_only": false
    }
   },
   "source": [
    "<h2>Do you want to use GPU in production?</h2>\n",
    "\n",
    "<p>Running deep learning programs usually needs a high performance platform. PowerAI speeds up deep learning and AI. Built on IBM's Power Systems, PowerAI is a scalable software platform that accelerates deep learning and AI with blazing performance for individual users or enterprises. The <a href=\"https://cocl.us/ML0122EN_IBMCLOUD_PowerAI\">PowerAI platform on IBM Cloud</a> supports popular machine learning libraries and dependencies including TensorFlow, Caffe, PyTorch, and Theano.</p>\n",
    "\n",
    "<h3>Thanks for completing this lesson!</h3>\n",
    "\n",
    "\n",
    "\n",
    "<h4>Author:  <a href=\"https://ca.linkedin.com/in/saeedaghabozorgi\">Saeed Aghabozorgi</a>,   <a href=\"https://www.linkedin.com/in/yi-leng-yao-84451275/\">Yi leng Yao</a></h4>\n",
    "<p><a href=\"https://ca.linkedin.com/in/saeedaghabozorgi\">Saeed Aghabozorgi</a>, PhD is a Data Scientist in IBM with a track record of developing enterprise level applications that substantially increases clients’ ability to turn data into actionable knowledge. He is a researcher in data mining field and expert in developing advanced analytic methods like machine learning and statistical modelling on large datasets.</p>\n",
    "</article>"
   ]
  },
  {
   "cell_type": "markdown",
   "metadata": {
    "button": false,
    "deletable": true,
    "new_sheet": false,
    "run_control": {
     "read_only": false
    }
   },
   "source": [
    "<hr>\n",
    "\n",
    "<p>Copyright &copy; 2018 <a href=\"https://cocl.us/DX0108EN_CC\">Cognitive Class</a>. This notebook and its source code are released under the terms of the <a href=\"https://bigdatauniversity.com/mit-license/\">MIT License</a>.</p>"
   ]
  }
 ],
 "metadata": {
  "anaconda-cloud": {},
  "kernelspec": {
   "display_name": "Python 3",
   "language": "python",
   "name": "python3"
  },
  "language_info": {
   "codemirror_mode": {
    "name": "ipython",
    "version": 3
   },
   "file_extension": ".py",
   "mimetype": "text/x-python",
   "name": "python",
   "nbconvert_exporter": "python",
   "pygments_lexer": "ipython3",
   "version": "3.6.5"
  }
 },
 "nbformat": 4,
 "nbformat_minor": 2
}
