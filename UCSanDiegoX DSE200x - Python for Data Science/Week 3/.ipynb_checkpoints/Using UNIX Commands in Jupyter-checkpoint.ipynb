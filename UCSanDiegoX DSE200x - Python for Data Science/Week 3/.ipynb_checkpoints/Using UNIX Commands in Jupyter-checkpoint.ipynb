{
 "cells": [
  {
   "cell_type": "code",
   "execution_count": 11,
   "metadata": {},
   "outputs": [
    {
     "name": "stdout",
     "output_type": "stream",
     "text": [
      "shakespeare.txt\r\n"
     ]
    }
   ],
   "source": [
    "!ls \"./UNIX\""
   ]
  },
  {
   "cell_type": "code",
   "execution_count": 14,
   "metadata": {},
   "outputs": [
    {
     "name": "stdout",
     "output_type": "stream",
     "text": [
      "./UNIX/shakespeare.txt\n",
      "./UNIX/shakespeare.txt\n"
     ]
    }
   ],
   "source": [
    "filename = \"./UNIX/shakespeare.txt\"\n",
    "!echo $filename\n",
    "print(filename)"
   ]
  },
  {
   "cell_type": "code",
   "execution_count": 15,
   "metadata": {},
   "outputs": [
    {
     "name": "stdout",
     "output_type": "stream",
     "text": [
      "This is the 100th Etext file presented by Project Gutenberg, and\r",
      "\r\n",
      "is presented in cooperation with World Library, Inc., from their\r",
      "\r\n",
      "Library of the Future and Shakespeare CDROMS.  Project Gutenberg\r",
      "\r\n"
     ]
    }
   ],
   "source": [
    "!head -n 3 $filename"
   ]
  },
  {
   "cell_type": "code",
   "execution_count": 17,
   "metadata": {},
   "outputs": [
    {
     "name": "stdout",
     "output_type": "stream",
     "text": [
      "PERSONAL USE ONLY, AND (2) ARE NOT DISTRIBUTED OR USED\r",
      "\r\n",
      "COMMERCIALLY.  PROHIBITED COMMERCIAL DISTRIBUTION INCLUDES BY ANY\r",
      "\r\n",
      "SERVICE THAT CHARGES FOR DOWNLOAD TIME OR FOR MEMBERSHIP.>>\r",
      "\r\n",
      "\r",
      "\r\n",
      "\r",
      "\r\n",
      "\r",
      "\r\n",
      "End of this Etext of The Complete Works of William Shakespeare\r",
      "\r\n",
      "\r",
      "\r\n",
      "\r",
      "\r\n",
      "\r",
      "\r\n"
     ]
    }
   ],
   "source": [
    "!tail -n 10 $filename"
   ]
  },
  {
   "cell_type": "code",
   "execution_count": 18,
   "metadata": {},
   "outputs": [
    {
     "name": "stdout",
     "output_type": "stream",
     "text": [
      "  124505  901447 5583442 ./UNIX/shakespeare.txt\r\n"
     ]
    }
   ],
   "source": [
    "!wc $filename"
   ]
  },
  {
   "cell_type": "code",
   "execution_count": 19,
   "metadata": {},
   "outputs": [
    {
     "name": "stdout",
     "output_type": "stream",
     "text": [
      "  124505 ./UNIX/shakespeare.txt\r\n"
     ]
    }
   ],
   "source": [
    "!wc -l $filename #just number of lines"
   ]
  },
  {
   "cell_type": "code",
   "execution_count": 20,
   "metadata": {},
   "outputs": [
    {
     "name": "stdout",
     "output_type": "stream",
     "text": [
      "  If the skin were parchment, and the blows you gave were ink,\n",
      "  Ham. Is not parchment made of sheepskins?\n",
      "    of the skin of an innocent lamb should be made parchment? That\n",
      "    parchment, being scribbl'd o'er, should undo a man? Some say the\n",
      "    Upon a parchment, and against this fire\n",
      "    But here's a parchment with the seal of Caesar;  \n",
      "    With inky blots and rotten parchment bonds;\n",
      "    Nor brass, nor stone, nor parchment, bears not one,\n"
     ]
    }
   ],
   "source": [
    "!grep -i 'parchment' $filename"
   ]
  },
  {
   "cell_type": "code",
   "execution_count": 21,
   "metadata": {},
   "outputs": [
    {
     "name": "stdout",
     "output_type": "stream",
     "text": [
      "      71\r\n"
     ]
    }
   ],
   "source": [
    "!cat $filename | grep -o 'liberty' | wc -l"
   ]
  },
  {
   "cell_type": "code",
   "execution_count": 23,
   "metadata": {},
   "outputs": [],
   "source": [
    "!sed -e 's/parchment/manuscript/g' $filename > temp.txt"
   ]
  },
  {
   "cell_type": "code",
   "execution_count": 28,
   "metadata": {},
   "outputs": [
    {
     "name": "stdout",
     "output_type": "stream",
     "text": [
      "Intro Notebook.ipynb                 Using UNIX Commands in Jupyter.ipynb\n",
      "\u001b[34mUNIX\u001b[m\u001b[m                                 temp.txt\n",
      "  If the skin were manuscript, and the blows you gave were ink,\n",
      "  Ham. Is not manuscript made of sheepskins?\n",
      "    of the skin of an innocent lamb should be made manuscript? That\n",
      "    manuscript, being scribbl'd o'er, should undo a man? Some say the\n",
      "    Upon a manuscript, and against this fire\n",
      "    But here's a manuscript with the seal of Caesar;  \n",
      "    With inky blots and rotten manuscript bonds;\n",
      "    Nor brass, nor stone, nor manuscript, bears not one,\n"
     ]
    }
   ],
   "source": [
    "!ls\n",
    "!grep -i 'manuscript' temp.txt"
   ]
  },
  {
   "cell_type": "code",
   "execution_count": 30,
   "metadata": {},
   "outputs": [
    {
     "name": "stdout",
     "output_type": "stream",
     "text": [
      "\r",
      "\r\n",
      "Library of the Future and Shakespeare CDROMS.  Project Gutenberg\r",
      "\r\n",
      "This is the 100th Etext file presented by Project Gutenberg, and\r",
      "\r\n",
      "is presented in cooperation with World Library, Inc., from their\r",
      "\r\n",
      "often releases Etexts that are NOT placed in the Public Domain!!\r",
      "\r\n"
     ]
    }
   ],
   "source": [
    "!head -n 5 $filename | sort"
   ]
  },
  {
   "cell_type": "code",
   "execution_count": 32,
   "metadata": {},
   "outputs": [
    {
     "name": "stdout",
     "output_type": "stream",
     "text": [
      "\r",
      "\r\n",
      "This is the 100th Etext file presented by Project Gutenberg, and\r",
      "\r\n",
      "Library of the Future and Shakespeare CDROMS.  Project Gutenberg\r",
      "\r\n",
      "is presented in cooperation with World Library, Inc., from their\r",
      "\r\n",
      "often releases Etexts that are NOT placed in the Public Domain!!\r",
      "\r\n"
     ]
    }
   ],
   "source": [
    "!head -n 5 $filename | sort -f -t' ' -k2"
   ]
  },
  {
   "cell_type": "code",
   "execution_count": 33,
   "metadata": {},
   "outputs": [
    {
     "name": "stdout",
     "output_type": "stream",
     "text": [
      "  110834\r\n"
     ]
    }
   ],
   "source": [
    "!sort $filename |uniq -u | wc -l #looks like some lines were repeated"
   ]
  },
  {
   "cell_type": "code",
   "execution_count": 34,
   "metadata": {},
   "outputs": [
    {
     "name": "stdout",
     "output_type": "stream",
     "text": [
      "502289 \r\n",
      "22678 the\r\n",
      "19163 I\r\n",
      "17868 and\r\n",
      "15324 to\r\n",
      "15216 of\r\n",
      "14779 \r",
      "\r\n",
      "12152 a\r\n",
      "10614 my\r\n",
      "9347 in\r\n",
      "8709 you\r\n",
      "7662 is\r\n",
      "7332 that\r\n",
      "7065 And\r\n",
      "6737 not\r\n",
      "sort: Broken pipe\r\n"
     ]
    }
   ],
   "source": [
    "# counts 15 most frequent words\n",
    "!sed -e 's/ /\\'$'\\n/g' < $filename | sort | uniq -c | sort -nr | head -15"
   ]
  },
  {
   "cell_type": "code",
   "execution_count": 35,
   "metadata": {},
   "outputs": [
    {
     "name": "stdout",
     "output_type": "stream",
     "text": [
      "sort: Broken pipe\r\n"
     ]
    }
   ],
   "source": [
    "# write to file\n",
    "!sed -e 's/ /\\'$'\\n/g' < $filename | sort | uniq -c | sort -nr | head -15 > count_vs_words"
   ]
  },
  {
   "cell_type": "code",
   "execution_count": 36,
   "metadata": {},
   "outputs": [
    {
     "name": "stdout",
     "output_type": "stream",
     "text": [
      "502289 \r\n",
      "22678 the\r\n",
      "19163 I\r\n",
      "17868 and\r\n",
      "15324 to\r\n",
      "15216 of\r\n",
      "14779 \r",
      "\r\n",
      "12152 a\r\n",
      "10614 my\r\n",
      "9347 in\r\n",
      "8709 you\r\n",
      "7662 is\r\n",
      "7332 that\r\n",
      "7065 And\r\n",
      "6737 not\r\n"
     ]
    }
   ],
   "source": [
    "!cat count_vs_words"
   ]
  },
  {
   "cell_type": "code",
   "execution_count": 37,
   "metadata": {},
   "outputs": [],
   "source": [
    "%matplotlib inline"
   ]
  }
 ],
 "metadata": {
  "kernelspec": {
   "display_name": "Python 3",
   "language": "python",
   "name": "python3"
  },
  "language_info": {
   "codemirror_mode": {
    "name": "ipython",
    "version": 3
   },
   "file_extension": ".py",
   "mimetype": "text/x-python",
   "name": "python",
   "nbconvert_exporter": "python",
   "pygments_lexer": "ipython3",
   "version": "3.6.7"
  }
 },
 "nbformat": 4,
 "nbformat_minor": 2
}
