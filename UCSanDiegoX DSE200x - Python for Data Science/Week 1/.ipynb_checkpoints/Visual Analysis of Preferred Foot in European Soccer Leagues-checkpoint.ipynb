{
 "cells": [
  {
   "cell_type": "markdown",
   "metadata": {},
   "source": [
    "# Visual Analysis of Preferred Foot in European Soccer Leagues\n",
    "### Jacob Miller\n",
    "Using the European Soccer Database from Kaggle, I am going to determine if there is any correlation (positive, negative, neutral) between foot preference and other foot skills. "
   ]
  },
  {
   "cell_type": "code",
   "execution_count": null,
   "metadata": {},
   "outputs": [],
   "source": [
    "# Package imports\n",
    "import sqlite3\n",
    "import pandas as pd\n",
    "import matplotlib.pyplot as plt\n",
    "import seaborn as sns"
   ]
  },
  {
   "cell_type": "code",
   "execution_count": null,
   "metadata": {},
   "outputs": [],
   "source": [
    "# Load Player_Attributes as df\n",
    "cnx = sqlite3.connect('../Week 5/Week-5-Exercises-2/database.sqlite')\n",
    "df = pd.read_sql_query(\"SELECT * FROM Player_Attributes\", cnx)"
   ]
  },
  {
   "cell_type": "code",
   "execution_count": null,
   "metadata": {},
   "outputs": [],
   "source": [
    "# Count NaN, drop NaN values\n",
    "print('\\nNaN values -before- dropping:')\n",
    "print(df.isnull().sum().sum())\n",
    "df.dropna(inplace = True)\n",
    "print('\\nNaN values -after- dropping:')\n",
    "print(df.isnull().sum().sum())"
   ]
  },
  {
   "cell_type": "code",
   "execution_count": null,
   "metadata": {},
   "outputs": [],
   "source": [
    "# Count how many prefer left/right\n",
    "preferred_foot = df['preferred_foot'].value_counts()\n",
    "print('\\nPreferred foot:\\n' + preferred_foot.to_string())"
   ]
  },
  {
   "cell_type": "code",
   "execution_count": null,
   "metadata": {},
   "outputs": [],
   "source": [
    "# Display preferred foot as pie chart\n",
    "fig1, ax1 = plt.subplots()\n",
    "ax1.pie(preferred_foot,\n",
    "        labels = ['Right', 'Left'],\n",
    "        autopct = '%1.1f%%',\n",
    "        explode = [0.1, 0.1],\n",
    "        shadow = True)\n",
    "ax1.axis('equal')\n",
    "plt.title('Preferred Foot',\n",
    "          fontdict = {'fontsize' : 18})\n",
    "plt.show()"
   ]
  },
  {
   "cell_type": "code",
   "execution_count": null,
   "metadata": {},
   "outputs": [],
   "source": [
    "# Turn preferred foot into integer for analysis\n",
    "df.loc[df['preferred_foot'] == 'right', 'preferred_foot'] = 0\n",
    "df.loc[df['preferred_foot'] == 'left', 'preferred_foot'] = 1"
   ]
  },
  {
   "cell_type": "code",
   "execution_count": null,
   "metadata": {},
   "outputs": [],
   "source": [
    "# Pull out foot-related skills\n",
    "foot_skills = df[['preferred_foot',\n",
    "                  'crossing',\n",
    "                  'finishing',\n",
    "                  'short_passing',\n",
    "                  'volleys',\n",
    "                  'dribbling',\n",
    "                  'curve',\n",
    "                  'free_kick_accuracy',\n",
    "                  'long_passing',\n",
    "                  'ball_control',\n",
    "                  'shot_power',\n",
    "                  'long_shots',\n",
    "                  'penalties']]"
   ]
  },
  {
   "cell_type": "code",
   "execution_count": null,
   "metadata": {},
   "outputs": [],
   "source": [
    "# Compute and show correlations\n",
    "correlations = foot_skills.corr()\n",
    "print(correlations)"
   ]
  },
  {
   "cell_type": "code",
   "execution_count": null,
   "metadata": {},
   "outputs": [],
   "source": [
    "# Plot correlations\n",
    "ax2 = sns.heatmap(correlations, square = True)\n",
    "plt.title('Correlations', fontdict = {'fontsize' : 18})\n",
    "plt.show()"
   ]
  },
  {
   "cell_type": "code",
   "execution_count": null,
   "metadata": {},
   "outputs": [],
   "source": [
    "# Plot correlations with preferred foot\n",
    "fig3, ax3 = plt.subplots()\n",
    "ax3.plot(correlations['preferred_foot'], 'bo--')\n",
    "plt.grid(True)\n",
    "plt.xlabel('Foot Skills')\n",
    "plt.ylabel('Correlation with Preferred Foot')\n",
    "plt.xticks(rotation = 90)\n",
    "plt.title('Correlation of Preferred Foot vs. Other Foot Skills',\n",
    "          fontdict = {'fontsize' : 18})\n",
    "plt.show()"
   ]
  }
 ],
 "metadata": {
  "kernelspec": {
   "display_name": "Python 3",
   "language": "python",
   "name": "python3"
  },
  "language_info": {
   "codemirror_mode": {
    "name": "ipython",
    "version": 3
   },
   "file_extension": ".py",
   "mimetype": "text/x-python",
   "name": "python",
   "nbconvert_exporter": "python",
   "pygments_lexer": "ipython3",
   "version": "3.6.7"
  }
 },
 "nbformat": 4,
 "nbformat_minor": 2
}
